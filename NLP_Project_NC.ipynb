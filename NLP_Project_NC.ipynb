{
 "cells": [
  {
   "cell_type": "markdown",
   "metadata": {
    "toc": true
   },
   "source": [
    "<h1>Table of Contents<span class=\"tocSkip\"></span></h1>\n",
    "<div class=\"toc\"><ul class=\"toc-item\"><li><span><a href=\"#Project-3---Classifying-Reddit-Posts-by-Subreddit\" data-toc-modified-id=\"Project-3---Classifying-Reddit-Posts-by-Subreddit-1\">Project 3 - Classifying Reddit Posts by Subreddit</a></span><ul class=\"toc-item\"><li><span><a href=\"#Problem-Statement\" data-toc-modified-id=\"Problem-Statement-1.1\">Problem Statement</a></span></li><li><span><a href=\"#Imports\" data-toc-modified-id=\"Imports-1.2\">Imports</a></span></li><li><span><a href=\"#Accessing-&amp;-Scraping-Data\" data-toc-modified-id=\"Accessing-&amp;-Scraping-Data-1.3\">Accessing &amp; Scraping Data</a></span></li><li><span><a href=\"#Exploratory-Data-Analysis\" data-toc-modified-id=\"Exploratory-Data-Analysis-1.4\">Exploratory Data Analysis</a></span><ul class=\"toc-item\"><li><span><a href=\"#Tokenizing-&amp;-Lemmatizing-Data\" data-toc-modified-id=\"Tokenizing-&amp;-Lemmatizing-Data-1.4.1\">Tokenizing &amp; Lemmatizing Data</a></span></li><li><span><a href=\"#Using-CountVectorizer-to-Find-Frequently-Used-Words\" data-toc-modified-id=\"Using-CountVectorizer-to-Find-Frequently-Used-Words-1.4.2\">Using CountVectorizer to Find Frequently Used Words</a></span><ul class=\"toc-item\"><li><span><a href=\"#TheOnion-(no-stop-words)\" data-toc-modified-id=\"TheOnion-(no-stop-words)-1.4.2.1\">TheOnion (no stop words)</a></span></li><li><span><a href=\"#TheOnion-(bigrams,-no-stop-words)\" data-toc-modified-id=\"TheOnion-(bigrams,-no-stop-words)-1.4.2.2\">TheOnion (bigrams, no stop words)</a></span></li><li><span><a href=\"#TheOnion-(stop_words-=-'english')\" data-toc-modified-id=\"TheOnion-(stop_words-=-'english')-1.4.2.3\">TheOnion (stop_words = 'english')</a></span></li><li><span><a href=\"#TheOnion-(bigrams,-stop_words-=-'english')\" data-toc-modified-id=\"TheOnion-(bigrams,-stop_words-=-'english')-1.4.2.4\">TheOnion (bigrams, stop_words = 'english')</a></span></li><li><span><a href=\"#Conspiracy-(no-stop-words)\" data-toc-modified-id=\"Conspiracy-(no-stop-words)-1.4.2.5\">Conspiracy (no stop words)</a></span></li><li><span><a href=\"#Conspiracy-(bigram,-no-stop-words)\" data-toc-modified-id=\"Conspiracy-(bigram,-no-stop-words)-1.4.2.6\">Conspiracy (bigram, no stop words)</a></span></li><li><span><a href=\"#Conspiracy-(stop_words-=-'english')\" data-toc-modified-id=\"Conspiracy-(stop_words-=-'english')-1.4.2.7\">Conspiracy (stop_words = 'english')</a></span></li><li><span><a href=\"#Conspiracy-(bigrams,-stop_words-=-'english')\" data-toc-modified-id=\"Conspiracy-(bigrams,-stop_words-=-'english')-1.4.2.8\">Conspiracy (bigrams, stop_words = 'english')</a></span></li></ul></li><li><span><a href=\"#Create-list-of-stop-words-common-to-both-subreddits\" data-toc-modified-id=\"Create-list-of-stop-words-common-to-both-subreddits-1.4.3\">Create list of stop words common to both subreddits</a></span></li></ul></li><li><span><a href=\"#Combine-DataFrames\" data-toc-modified-id=\"Combine-DataFrames-1.5\">Combine DataFrames</a></span><ul class=\"toc-item\"><li><span><a href=\"#Export-Combined-Dataframe-to-CSV\" data-toc-modified-id=\"Export-Combined-Dataframe-to-CSV-1.5.1\">Export Combined Dataframe to CSV</a></span></li></ul></li></ul></li><li><span><a href=\"#Modeling\" data-toc-modified-id=\"Modeling-2\">Modeling</a></span><ul class=\"toc-item\"><li><span><a href=\"#Create-X-(features)-&amp;-y-(target)-datasets\" data-toc-modified-id=\"Create-X-(features)-&amp;-y-(target)-datasets-2.1\">Create X (features) &amp; y (target) datasets</a></span></li><li><span><a href=\"#Baseline-Accuracy\" data-toc-modified-id=\"Baseline-Accuracy-2.2\">Baseline Accuracy</a></span></li><li><span><a href=\"#Function-for-Evaluating-Vectorizers-&amp;-Classifiers\" data-toc-modified-id=\"Function-for-Evaluating-Vectorizers-&amp;-Classifiers-2.3\">Function for Evaluating Vectorizers &amp; Classifiers</a></span></li><li><span><a href=\"#Pipeline-&amp;-GridSearchCV\" data-toc-modified-id=\"Pipeline-&amp;-GridSearchCV-2.4\">Pipeline &amp; GridSearchCV</a></span><ul class=\"toc-item\"><li><span><a href=\"#Train-Test-Split\" data-toc-modified-id=\"Train-Test-Split-2.4.1\">Train Test Split</a></span></li><li><span><a href=\"#Logistic-Regression-Pipelines\" data-toc-modified-id=\"Logistic-Regression-Pipelines-2.4.2\">Logistic Regression Pipelines</a></span><ul class=\"toc-item\"><li><span><a href=\"#CountVectorizer\" data-toc-modified-id=\"CountVectorizer-2.4.2.1\">CountVectorizer</a></span></li><li><span><a href=\"#TF-IDF-Vectorizer\" data-toc-modified-id=\"TF-IDF-Vectorizer-2.4.2.2\">TF-IDF Vectorizer</a></span></li></ul></li><li><span><a href=\"#MultinomialNB\" data-toc-modified-id=\"MultinomialNB-2.4.3\">MultinomialNB</a></span><ul class=\"toc-item\"><li><span><a href=\"#CountVectorizer\" data-toc-modified-id=\"CountVectorizer-2.4.3.1\">CountVectorizer</a></span></li><li><span><a href=\"#TF-IDF-Vectorizer\" data-toc-modified-id=\"TF-IDF-Vectorizer-2.4.3.2\">TF-IDF Vectorizer</a></span></li></ul></li><li><span><a href=\"#Random-Forest\" data-toc-modified-id=\"Random-Forest-2.4.4\">Random Forest</a></span><ul class=\"toc-item\"><li><span><a href=\"#CountVectorizer\" data-toc-modified-id=\"CountVectorizer-2.4.4.1\">CountVectorizer</a></span></li><li><span><a href=\"#TF-IDF-Vectorizer\" data-toc-modified-id=\"TF-IDF-Vectorizer-2.4.4.2\">TF-IDF Vectorizer</a></span></li></ul></li></ul></li><li><span><a href=\"#Evaluation-&amp;-Interpretation\" data-toc-modified-id=\"Evaluation-&amp;-Interpretation-2.5\">Evaluation &amp; Interpretation</a></span></li></ul></li></ul></div>"
   ]
  },
  {
   "cell_type": "markdown",
   "metadata": {},
   "source": [
    "# Project 3 - Classifying Reddit Posts by Subreddit"
   ]
  },
  {
   "cell_type": "markdown",
   "metadata": {},
   "source": [
    "## Problem Statement"
   ]
  },
  {
   "cell_type": "markdown",
   "metadata": {},
   "source": []
  },
  {
   "cell_type": "markdown",
   "metadata": {},
   "source": [
    "## Imports"
   ]
  },
  {
   "cell_type": "code",
   "execution_count": 21,
   "metadata": {},
   "outputs": [],
   "source": [
    "import pandas as pd\n",
    "import numpy as np\n",
    "import requests\n",
    "import time\n",
    "from nltk.stem import WordNetLemmatizer\n",
    "from nltk.tokenize import RegexpTokenizer\n",
    "from sklearn.feature_extraction.text import CountVectorizer,TfidfVectorizer,HashingVectorizer\n",
    "import regex as re\n",
    "from sklearn.feature_extraction import text\n",
    "import matplotlib.pyplot as plt\n",
    "import seaborn as sns\n",
    "%matplotlib inline"
   ]
  },
  {
   "cell_type": "markdown",
   "metadata": {},
   "source": [
    "## Accessing & Scraping Data"
   ]
  },
  {
   "cell_type": "code",
   "execution_count": null,
   "metadata": {},
   "outputs": [],
   "source": [
    "# https://www.reddit.com/r/conspiracy/ & https://www.reddit.com/r/TheOnion/"
   ]
  },
  {
   "cell_type": "code",
   "execution_count": 2,
   "metadata": {},
   "outputs": [],
   "source": [
    "url_onion = 'https://www.reddit.com/r/TheOnion/.json'\n",
    "url_conspiracy = 'https://www.reddit.com/r/conspiracy/.json'\n",
    "user_header = {'User-agent': 'JaneJacobs'} # header to prevent 429 error"
   ]
  },
  {
   "cell_type": "code",
   "execution_count": 3,
   "metadata": {},
   "outputs": [],
   "source": [
    "def get_subreddit(url, n_pulls, header):\n",
    "    # Create empty templates\n",
    "    posts = []\n",
    "    after = None\n",
    "    \n",
    "    # Create a loop that does a max of 25 requests per pull\n",
    "    for pull_num in range(n_pulls):\n",
    "        print(f'Pulling data attempted {pull_num+1} times')\n",
    "        \n",
    "        if (after == None):\n",
    "            new_url = url         # base case\n",
    "        else:\n",
    "            new_url = url+\"?after=\"+after   # subsequent iterations\n",
    "            \n",
    "        res = requests.get(new_url, headers = header)\n",
    "        \n",
    "        if (res.status_code == 200):\n",
    "            subreddit_json = res.json()                       # Pull json\n",
    "            posts.extend(subreddit_json['data']['children'])  # Get subreddit posts\n",
    "            after = subreddit_json['data']['after']           # after = ID of last post in iteration\n",
    "        else:\n",
    "            print(f'It would appear there has been an error. Status Code: {res.status_code}')\n",
    "            break\n",
    "        time.sleep(1)\n",
    "    \n",
    "    return(posts)"
   ]
  },
  {
   "cell_type": "code",
   "execution_count": 4,
   "metadata": {
    "scrolled": false
   },
   "outputs": [
    {
     "name": "stdout",
     "output_type": "stream",
     "text": [
      "Pulling data attempted 1 times\n",
      "Pulling data attempted 2 times\n",
      "Pulling data attempted 3 times\n",
      "Pulling data attempted 4 times\n",
      "Pulling data attempted 5 times\n",
      "Pulling data attempted 6 times\n",
      "Pulling data attempted 7 times\n",
      "Pulling data attempted 8 times\n",
      "Pulling data attempted 9 times\n",
      "Pulling data attempted 10 times\n",
      "Pulling data attempted 11 times\n",
      "Pulling data attempted 12 times\n",
      "Pulling data attempted 13 times\n",
      "Pulling data attempted 14 times\n",
      "Pulling data attempted 15 times\n",
      "Pulling data attempted 16 times\n",
      "Pulling data attempted 17 times\n",
      "Pulling data attempted 18 times\n",
      "Pulling data attempted 19 times\n",
      "Pulling data attempted 20 times\n",
      "Pulling data attempted 21 times\n",
      "Pulling data attempted 22 times\n",
      "Pulling data attempted 23 times\n",
      "Pulling data attempted 24 times\n",
      "Pulling data attempted 25 times\n",
      "Pulling data attempted 26 times\n",
      "Pulling data attempted 27 times\n",
      "Pulling data attempted 28 times\n",
      "Pulling data attempted 29 times\n",
      "Pulling data attempted 30 times\n",
      "Pulling data attempted 31 times\n",
      "Pulling data attempted 32 times\n",
      "Pulling data attempted 33 times\n",
      "Pulling data attempted 34 times\n",
      "Pulling data attempted 35 times\n",
      "Pulling data attempted 36 times\n",
      "Pulling data attempted 37 times\n",
      "Pulling data attempted 38 times\n",
      "Pulling data attempted 39 times\n",
      "Pulling data attempted 40 times\n",
      "Pulling data attempted 41 times\n"
     ]
    }
   ],
   "source": [
    "onion_posts = get_subreddit(url_onion, n_pulls = 41, header=user_header)"
   ]
  },
  {
   "cell_type": "code",
   "execution_count": 5,
   "metadata": {},
   "outputs": [
    {
     "data": {
      "text/plain": [
       "1024"
      ]
     },
     "execution_count": 5,
     "metadata": {},
     "output_type": "execute_result"
    }
   ],
   "source": [
    "len(onion_posts)"
   ]
  },
  {
   "cell_type": "code",
   "execution_count": 6,
   "metadata": {},
   "outputs": [],
   "source": [
    "def pull_posts(posts):\n",
    "    \n",
    "    post_titles = []\n",
    "    for i in range(len(posts)):\n",
    "        titles = {}\n",
    "        titles['title']     = posts[i]['data']['title']\n",
    "        titles['subreddit'] = posts[i]['data']['subreddit']\n",
    "        titles['id']        = posts[i]['data']['id']\n",
    "        post_titles.append(titles)\n",
    "\n",
    "    return(pd.DataFrame(post_titles))"
   ]
  },
  {
   "cell_type": "code",
   "execution_count": 7,
   "metadata": {
    "scrolled": false
   },
   "outputs": [
    {
     "data": {
      "text/html": [
       "<div>\n",
       "<style scoped>\n",
       "    .dataframe tbody tr th:only-of-type {\n",
       "        vertical-align: middle;\n",
       "    }\n",
       "\n",
       "    .dataframe tbody tr th {\n",
       "        vertical-align: top;\n",
       "    }\n",
       "\n",
       "    .dataframe thead th {\n",
       "        text-align: right;\n",
       "    }\n",
       "</style>\n",
       "<table border=\"1\" class=\"dataframe\">\n",
       "  <thead>\n",
       "    <tr style=\"text-align: right;\">\n",
       "      <th></th>\n",
       "      <th>id</th>\n",
       "      <th>subreddit</th>\n",
       "      <th>title</th>\n",
       "    </tr>\n",
       "  </thead>\n",
       "  <tbody>\n",
       "    <tr>\n",
       "      <th>0</th>\n",
       "      <td>balg7j</td>\n",
       "      <td>TheOnion</td>\n",
       "      <td>Treasury Department Issues Emergency Recall Of...</td>\n",
       "    </tr>\n",
       "    <tr>\n",
       "      <th>1</th>\n",
       "      <td>babanf</td>\n",
       "      <td>TheOnion</td>\n",
       "      <td>NicoDerm Introduces New Nicotine Eye Patch</td>\n",
       "    </tr>\n",
       "    <tr>\n",
       "      <th>2</th>\n",
       "      <td>ba4l1w</td>\n",
       "      <td>TheOnion</td>\n",
       "      <td>Tom Izzo Calls 2019 Spartans Best Team He’s Ev...</td>\n",
       "    </tr>\n",
       "    <tr>\n",
       "      <th>3</th>\n",
       "      <td>b9szn0</td>\n",
       "      <td>TheOnion</td>\n",
       "      <td>Paramount Executive Snaps Up Script That Begin...</td>\n",
       "    </tr>\n",
       "    <tr>\n",
       "      <th>4</th>\n",
       "      <td>b9szmp</td>\n",
       "      <td>TheOnion</td>\n",
       "      <td>New ‘Game Of Thrones’ Trailer Provides Sneak P...</td>\n",
       "    </tr>\n",
       "  </tbody>\n",
       "</table>\n",
       "</div>"
      ],
      "text/plain": [
       "       id subreddit                                              title\n",
       "0  balg7j  TheOnion  Treasury Department Issues Emergency Recall Of...\n",
       "1  babanf  TheOnion         NicoDerm Introduces New Nicotine Eye Patch\n",
       "2  ba4l1w  TheOnion  Tom Izzo Calls 2019 Spartans Best Team He’s Ev...\n",
       "3  b9szn0  TheOnion  Paramount Executive Snaps Up Script That Begin...\n",
       "4  b9szmp  TheOnion  New ‘Game Of Thrones’ Trailer Provides Sneak P..."
      ]
     },
     "execution_count": 7,
     "metadata": {},
     "output_type": "execute_result"
    }
   ],
   "source": [
    "df_onion = pull_posts(onion_posts)\n",
    "df_onion.head()"
   ]
  },
  {
   "cell_type": "code",
   "execution_count": 8,
   "metadata": {},
   "outputs": [
    {
     "name": "stdout",
     "output_type": "stream",
     "text": [
      "Pulling data attempted 1 times\n",
      "Pulling data attempted 2 times\n",
      "Pulling data attempted 3 times\n",
      "Pulling data attempted 4 times\n",
      "Pulling data attempted 5 times\n",
      "Pulling data attempted 6 times\n",
      "Pulling data attempted 7 times\n",
      "Pulling data attempted 8 times\n",
      "Pulling data attempted 9 times\n",
      "Pulling data attempted 10 times\n",
      "Pulling data attempted 11 times\n",
      "Pulling data attempted 12 times\n",
      "Pulling data attempted 13 times\n",
      "Pulling data attempted 14 times\n",
      "Pulling data attempted 15 times\n",
      "Pulling data attempted 16 times\n",
      "Pulling data attempted 17 times\n",
      "Pulling data attempted 18 times\n",
      "Pulling data attempted 19 times\n",
      "Pulling data attempted 20 times\n",
      "Pulling data attempted 21 times\n",
      "Pulling data attempted 22 times\n",
      "Pulling data attempted 23 times\n",
      "Pulling data attempted 24 times\n",
      "Pulling data attempted 25 times\n",
      "Pulling data attempted 26 times\n",
      "Pulling data attempted 27 times\n",
      "Pulling data attempted 28 times\n",
      "Pulling data attempted 29 times\n",
      "Pulling data attempted 30 times\n",
      "Pulling data attempted 31 times\n",
      "Pulling data attempted 32 times\n",
      "Pulling data attempted 33 times\n",
      "Pulling data attempted 34 times\n",
      "Pulling data attempted 35 times\n",
      "Pulling data attempted 36 times\n",
      "Pulling data attempted 37 times\n",
      "Pulling data attempted 38 times\n",
      "Pulling data attempted 39 times\n",
      "Pulling data attempted 40 times\n",
      "Pulling data attempted 41 times\n",
      "Pulling data attempted 42 times\n"
     ]
    }
   ],
   "source": [
    "conspiracy_posts = get_subreddit(url_conspiracy, n_pulls = 42, header=user_header)"
   ]
  },
  {
   "cell_type": "code",
   "execution_count": 9,
   "metadata": {},
   "outputs": [
    {
     "data": {
      "text/html": [
       "<div>\n",
       "<style scoped>\n",
       "    .dataframe tbody tr th:only-of-type {\n",
       "        vertical-align: middle;\n",
       "    }\n",
       "\n",
       "    .dataframe tbody tr th {\n",
       "        vertical-align: top;\n",
       "    }\n",
       "\n",
       "    .dataframe thead th {\n",
       "        text-align: right;\n",
       "    }\n",
       "</style>\n",
       "<table border=\"1\" class=\"dataframe\">\n",
       "  <thead>\n",
       "    <tr style=\"text-align: right;\">\n",
       "      <th></th>\n",
       "      <th>id</th>\n",
       "      <th>subreddit</th>\n",
       "      <th>title</th>\n",
       "    </tr>\n",
       "  </thead>\n",
       "  <tbody>\n",
       "    <tr>\n",
       "      <th>0</th>\n",
       "      <td>b6bp4k</td>\n",
       "      <td>conspiracy</td>\n",
       "      <td>Announcement: /r/conspiracy Is Accepting Moder...</td>\n",
       "    </tr>\n",
       "    <tr>\n",
       "      <th>1</th>\n",
       "      <td>baf93n</td>\n",
       "      <td>conspiracy</td>\n",
       "      <td>What does the following quote from 1984 mean?</td>\n",
       "    </tr>\n",
       "    <tr>\n",
       "      <th>2</th>\n",
       "      <td>bahjhq</td>\n",
       "      <td>conspiracy</td>\n",
       "      <td>Another scientist just got \"Wakefielded\". Prof...</td>\n",
       "    </tr>\n",
       "    <tr>\n",
       "      <th>3</th>\n",
       "      <td>baifvm</td>\n",
       "      <td>conspiracy</td>\n",
       "      <td>1989 \"White House Call Boy Scandal\" Reagan/Bus...</td>\n",
       "    </tr>\n",
       "    <tr>\n",
       "      <th>4</th>\n",
       "      <td>bacr2l</td>\n",
       "      <td>conspiracy</td>\n",
       "      <td>Philanthropy cannot be used as an excuse to gl...</td>\n",
       "    </tr>\n",
       "  </tbody>\n",
       "</table>\n",
       "</div>"
      ],
      "text/plain": [
       "       id   subreddit                                              title\n",
       "0  b6bp4k  conspiracy  Announcement: /r/conspiracy Is Accepting Moder...\n",
       "1  baf93n  conspiracy      What does the following quote from 1984 mean?\n",
       "2  bahjhq  conspiracy  Another scientist just got \"Wakefielded\". Prof...\n",
       "3  baifvm  conspiracy  1989 \"White House Call Boy Scandal\" Reagan/Bus...\n",
       "4  bacr2l  conspiracy  Philanthropy cannot be used as an excuse to gl..."
      ]
     },
     "execution_count": 9,
     "metadata": {},
     "output_type": "execute_result"
    }
   ],
   "source": [
    "df_conspiracy = pull_posts(conspiracy_posts)\n",
    "df_conspiracy.head()"
   ]
  },
  {
   "cell_type": "code",
   "execution_count": 10,
   "metadata": {},
   "outputs": [
    {
     "data": {
      "text/plain": [
       "(1024, 3)"
      ]
     },
     "execution_count": 10,
     "metadata": {},
     "output_type": "execute_result"
    }
   ],
   "source": [
    "df_onion.shape"
   ]
  },
  {
   "cell_type": "code",
   "execution_count": 11,
   "metadata": {},
   "outputs": [],
   "source": [
    "df_onion.drop_duplicates(subset = 'id',inplace = True)"
   ]
  },
  {
   "cell_type": "code",
   "execution_count": 12,
   "metadata": {},
   "outputs": [
    {
     "data": {
      "text/plain": [
       "(974, 3)"
      ]
     },
     "execution_count": 12,
     "metadata": {},
     "output_type": "execute_result"
    }
   ],
   "source": [
    "df_onion.shape"
   ]
  },
  {
   "cell_type": "code",
   "execution_count": 13,
   "metadata": {},
   "outputs": [
    {
     "data": {
      "text/plain": [
       "(1044, 3)"
      ]
     },
     "execution_count": 13,
     "metadata": {},
     "output_type": "execute_result"
    }
   ],
   "source": [
    "df_conspiracy.shape"
   ]
  },
  {
   "cell_type": "code",
   "execution_count": 14,
   "metadata": {},
   "outputs": [],
   "source": [
    "df_conspiracy.drop_duplicates(subset = 'id',inplace = True)"
   ]
  },
  {
   "cell_type": "code",
   "execution_count": 15,
   "metadata": {},
   "outputs": [
    {
     "data": {
      "text/plain": [
       "(893, 3)"
      ]
     },
     "execution_count": 15,
     "metadata": {},
     "output_type": "execute_result"
    }
   ],
   "source": [
    "df_conspiracy.shape"
   ]
  },
  {
   "cell_type": "markdown",
   "metadata": {},
   "source": [
    "## Exploratory Data Analysis"
   ]
  },
  {
   "cell_type": "markdown",
   "metadata": {},
   "source": [
    "### Tokenizing & Lemmatizing Data"
   ]
  },
  {
   "cell_type": "code",
   "execution_count": 35,
   "metadata": {
    "code_folding": []
   },
   "outputs": [],
   "source": [
    "def tokenize_lemmatize(text_col):\n",
    "    # Instantiate tokenizer\n",
    "    tokenizer = RegexpTokenizer(r'[A-z]+')\n",
    "    \n",
    "    # Tokenize text\n",
    "    tokens = [tokenizer.tokenize(post.lower()) for post in text_col]\n",
    "    \n",
    "    # Instantiate lemmatizer\n",
    "    lemmatizer = WordNetLemmatizer()\n",
    "    tokens_lem = []\n",
    "    # lemmatize words\n",
    "    for words in tokens:\n",
    "        lem_list = [lemmatizer.lemmatize(i) for i in words]\n",
    "        lem_post = ''\n",
    "        for word in lem_list:\n",
    "            lem_post += (word+' ')\n",
    "        tokens_lem.append(lem_post.strip())\n",
    "    \n",
    "    return (tokens_lem)"
   ]
  },
  {
   "cell_type": "code",
   "execution_count": 36,
   "metadata": {},
   "outputs": [],
   "source": [
    "lemma_token_list = tokenize_lemmatize(df_onion['title'])"
   ]
  },
  {
   "cell_type": "code",
   "execution_count": 42,
   "metadata": {
    "scrolled": true
   },
   "outputs": [
    {
     "data": {
      "text/plain": [
       "'tom izzo call spartan best team he s ever threatened with violence'"
      ]
     },
     "execution_count": 42,
     "metadata": {},
     "output_type": "execute_result"
    }
   ],
   "source": [
    "lemma_token_list[2]"
   ]
  },
  {
   "cell_type": "code",
   "execution_count": 37,
   "metadata": {},
   "outputs": [],
   "source": [
    "cvec = CountVectorizer()\n",
    "lemma_features = cvec.fit_transform(lemma_token_list)\n"
   ]
  },
  {
   "cell_type": "code",
   "execution_count": 41,
   "metadata": {},
   "outputs": [
    {
     "data": {
      "text/plain": [
       "12381"
      ]
     },
     "execution_count": 41,
     "metadata": {},
     "output_type": "execute_result"
    }
   ],
   "source": [
    "lemma_feature"
   ]
  },
  {
   "cell_type": "code",
   "execution_count": 38,
   "metadata": {},
   "outputs": [
    {
     "name": "stdout",
     "output_type": "stream",
     "text": [
      "['abandoned', 'abandoning', 'abc', 'ability', 'abortion', 'abortionplex', 'about', 'above', 'abrams', 'absolutely', 'absorbed', 'abuse', 'academy', 'accept', 'acceptance', 'accepted', 'accepting', 'access', 'accident', 'accidental', 'accidentally', 'accommodation', 'account', 'accountant', 'accounting', 'accused', 'accuser', 'achieve', 'acknowledging', 'acoustic', 'across', 'activate', 'activated', 'activist', 'actor', 'actual', 'actually', 'ad', 'adam', 'added', 'adding', 'additional', 'address', 'administration', 'administrator', 'admission', 'admit', 'admits', 'admitted', 'admitting', 'adolescent', 'adopting', 'adopts', 'adorable', 'adult', 'advertise', 'advil', 'advise', 'advises', 'advisor', 'afc', 'affected', 'affleck', 'affonso', 'afford', 'affordable', 'afghanistan', 'after', 'afternoon', 'again', 'against', 'age', 'agent', 'aging', 'agog', 'agree', 'agreed', 'agreeing', 'agrees', 'agribusiness', 'agriculture', 'ahead', 'aid', 'aipac', 'airline', 'airplane', 'ak', 'alan', 'alarm', 'album', 'alcoholic', 'aldrin', 'alejandro', 'alert', 'alexander', 'alexandria', 'algorithm', 'alien', 'alive', 'all', 'allan', 'alleging', 'allergy', 'alliance', 'allocates', 'allow', 'allowed', 'allows', 'ally', 'almost', 'alone', 'along', 'already', 'also', 'altercation', 'altered', 'aluminum', 'always', 'am', 'amass', 'amazing', 'amazon', 'amber', 'america', 'american', 'amok', 'among', 'amp', 'amusement', 'amy', 'an', 'analyzed', 'anarchy', 'ancestor', 'and', 'anderson', 'andme', 'andrew', 'anecdote', 'angrily', 'angry', 'animal', 'anita', 'ann', 'anne', 'anniversary', 'announce', 'announced', 'announcement', 'announces', 'announcing', 'annoyed', 'annoying', 'annual', 'anonymity', 'another', 'anthem', 'anthony', 'anti', 'antique', 'antonio', 'anus', 'anxiously', 'any', 'anybody', 'anymore', 'anyone', 'anything', 'anywhere', 'apart', 'apartment', 'ape', 'apex', 'aphid', 'apnea', 'apologist', 'apologizes', 'apology', 'app', 'appeal', 'appetite', 'apple', 'appointed', 'appointment', 'appraisal', 'appreciated', 'approaching', 'appropriation', 'approves', 'aquafina', 'arabia', 'arbitrarily', 'arcade', 'archaeologist', 'are', 'area', 'aren', 'argue', 'ariana', 'arizona', 'arm', 'armour', 'army', 'around', 'arranged', 'arrives', 'art', 'article', 'artist', 'aryan', 'as', 'ascetic', 'ash', 'asia', 'aside', 'ask', 'asked', 'asking', 'asks', 'assassin', 'assault', 'assembled', 'assembles', 'asshole', 'assistant', 'association', 'assumed', 'assure', 'assures', 'astrid', 'astronaut', 'asylum', 'at', 'atheist', 'athlete', 'attaching', 'attack', 'attacking', 'attempt', 'attenborough', 'attend', 'attendance', 'attendant', 'attention', 'attic', 'attracted', 'attractive', 'attribute', 'audience', 'audit', 'aunt', 'australia', 'authentic', 'authenticity', 'author', 'authority', 'automated', 'available', 'avenger', 'average', 'avert', 'avoid', 'awakening', 'award', 'away', 'awesome', 'awful', 'axis', 'baboon', 'baby', 'bachelor', 'back', 'backboard', 'backed', 'background', 'backing', 'backlogged', 'backstory', 'bad', 'bader', 'badminton', 'bag', 'bagel', 'balcony', 'bald', 'bale', 'balloon', 'ban', 'banana', 'band', 'banding', 'bang', 'banging', 'banished', 'banker', 'bankruptcy', 'bankrupted', 'banksy', 'banned', 'banning', 'bansuri', 'bar', 'barack', 'barber', 'barbie', 'bare', 'barge', 'barker', 'barn', 'barr', 'barrel', 'barrett', 'barron', 'barstool', 'base', 'baseball', 'based', 'basement', 'basically', 'basilica', 'basketball', 'baskin', 'bastion', 'bathing', 'bathroom', 'battlefield', 'bayless', 'bbc', 'be', 'beached', 'bean', 'bear', 'beat', 'beating', 'beautiful', 'beauty', 'because', 'beckinsale', 'become', 'becomes', 'becoming', 'bed', 'bedroom', 'bee', 'beehive', 'been', 'beer', 'before', 'begin', 'beginning', 'begs', 'begun', 'beheaded', 'behind', 'being', 'belgium', 'belichick', 'believe', 'bell', 'beloved', 'below', 'belt', 'ben', 'bend', 'beneficial', 'benefit', 'benefited', 'bengal', 'bernie', 'berry', 'best', 'beto', 'betrayal', 'better', 'between', 'beverage', 'beyonc', 'beyond', 'bezos', 'bias', 'bible', 'bid', 'bidding', 'biden', 'bieber', 'big', 'bigger', 'biggest', 'bike', 'bile', 'bill', 'billboard', 'billion', 'billionaire', 'bimbo', 'bin', 'binding', 'binge', 'bio', 'biodiversity', 'biologist', 'biology', 'bird', 'birth', 'birthday', 'bishop', 'bitable', 'bitch', 'bite', 'black', 'blackface', 'blackmail', 'blacksmith', 'blaine', 'blame', 'blasting', 'bleeding', 'blend', 'blender', 'blind', 'blizzard', 'block', 'blonde', 'blood', 'bloused', 'blowing', 'blown', 'blowtorch', 'blue', 'blurry', 'board', 'boardwalk', 'boat', 'bob', 'bobby', 'body', 'bodyguard', 'bohemian', 'bold', 'bolton', 'bomb', 'bombshell', 'bond', 'bone', 'book', 'booker', 'boom', 'boomer', 'border', 'bored', 'boring', 'born', 'borrowing', 'bos', 'boston', 'both', 'bottle', 'bottled', 'bottom', 'bouncer', 'bound', 'bow', 'bowl', 'box', 'boy', 'boyfriend', 'bra', 'bracket', 'brad', 'bradley', 'brady', 'brain', 'brainwashed', 'brand', 'brandless', 'brave', 'breach', 'breadstick', 'break', 'breakdancing', 'breakfast', 'breaking', 'breakneck', 'breastfeeding', 'breath', 'breathiest', 'breezy', 'brett', 'brexit', 'bribery', 'bride', 'bridge', 'brief', 'briefcase', 'briefing', 'brilliant', 'bring', 'bringing', 'brings', 'british', 'broadcast', 'brooklyn', 'bros', 'brother', 'brown', 'brownstone', 'browse', 'bryan', 'bryce', 'buck', 'budget', 'buffett', 'building', 'bulbus', 'bulge', 'bulk', 'bullshit', 'bump', 'bunch', 'bunk', 'burger', 'burglar', 'buried', 'burn', 'burned', 'burrito', 'burst', 'bus', 'business', 'buster', 'busy', 'but', 'butter', 'buttigieg', 'button', 'buy', 'buying', 'buzz', 'buzzfeed', 'by', 'cabin', 'cache', 'cackling', 'caesar', 'caine', 'calculation', 'calendar', 'caliber', 'california', 'caligula', 'call', 'called', 'cam', 'came', 'camera', 'cameraman', 'camp', 'campaign', 'can', 'canada', 'cancer', 'candidate', 'cane', 'canned', 'cannonball', 'cantaloupe', 'cap', 'capable', 'capitalist', 'capitol', 'captain', 'captured', 'car', 'card', 'cardboard', 'cardinal', 'care', 'career', 'carefully', 'caregiver', 'cargo', 'carlson', 'carnival', 'carpet', 'carried', 'carrot', 'cart', 'carter', 'cartoon', 'carving', 'case', 'cash', 'casino', 'cast', 'casual', 'cat', 'catch', 'catcher', 'catching', 'catchy', 'cathartic', 'catholic', 'catwoman', 'caught', 'cause', 'caused', 'caution', 'cavalcade', 'cave', 'caving', 'cbs', 'cdc', 'ceiling', 'celebrate', 'celebrates', 'celebration', 'celebrity', 'celibacy', 'cell', 'cemetery', 'cent', 'center', 'ceo', 'cereal', 'certain', 'chair', 'challenge', 'chamber', 'championship', 'chance', 'change', 'changed', 'changing', 'channel', 'channeled', 'chapter', 'character', 'charge', 'charity', 'charm', 'charter', 'chased', 'chasing', 'cheap', 'check', 'cheeseburger', 'cheesy', 'cheetah', 'cheetos', 'chef', 'cheney', 'cherished', 'cherry', 'chest', 'chester', 'chewing', 'chicago', 'chick', 'chicken', 'chief', 'child', 'chimney', 'chinese', 'chip', 'chipper', 'chopper', 'chore', 'chosen', 'chris', 'christ', 'christian', 'christmas', 'chuck', 'church', 'cia', 'cicada', 'cigarette', 'cindy', 'cinnamon', 'circumstance', 'citizen', 'city', 'civil', 'clad', 'claim', 'clandestine', 'clarifies', 'clark', 'class', 'classic', 'classroom', 'claw', 'clean', 'cleaned', 'clear', 'clearance', 'clearly', 'cleary', 'clemens', 'clergy', 'clich', 'clickhole', 'cliff', 'climactic', 'climatologist', 'climbed', 'clinique', 'clint', 'clock', 'clocked', 'close', 'closed', 'closer', 'closest', 'closet', 'clothes', 'clothing', 'club', 'clutch', 'cnn', 'coach', 'coax', 'coaxed', 'cobain', 'coca', 'cocky', 'code', 'coffee', 'cohen', 'cola', 'cold', 'collaborate', 'colleague', 'collect', 'collection', 'college', 'colonial', 'colorado', 'columbia', 'columbus', 'column', 'combine', 'comcast', 'come', 'comedy', 'comfort', 'comic', 'coming', 'commemorating', 'commercial', 'commit', 'commitment', 'committee', 'community', 'commuter', 'company', 'compassionate', 'compete', 'competition', 'competitive', 'complain', 'complained', 'complains', 'complaint', 'completed', 'completely', 'complicated', 'compound', 'compressing', 'computer', 'con', 'conceal', 'concealing', 'concept', 'concern', 'concerned', 'concert', 'concussed', 'condemning', 'condescending', 'conditioner', 'condom', 'conductor', 'conference', 'confetti', 'confident', 'confined', 'confirmation', 'confirms', 'confused', 'congo', 'congress', 'congressional', 'congressman', 'connection', 'conners', 'conscious', 'consequence', 'conservative', 'consider', 'considerate', 'considered', 'considering', 'considers', 'conspire', 'constantly', 'constituent', 'constitution', 'construct', 'constructed', 'construction', 'consults', 'consume', 'consumed', 'consumes', 'contact', 'content', 'continue', 'continues', 'contra', 'contract', 'contractor', 'control', 'controlling', 'controversy', 'convenes', 'conversation', 'converted', 'conviction', 'convince', 'convinces', 'convoy', 'cook', 'cool', 'cooler', 'coolest', 'cooper', 'cop', 'coppola', 'copycat', 'corduroy', 'core', 'cornnuts', 'corporate', 'corporation', 'corpse', 'correct', 'corrects', 'cortez', 'cory', 'cosby', 'cosmos', 'cost', 'costly', 'costume', 'costumed', 'cough', 'could', 'couldn', 'coulter', 'counter', 'country', 'couple', 'course', 'court', 'cousin', 'cover', 'coverage', 'covered', 'covering', 'cow', 'cowardly', 'cowboy', 'coworkers', 'cozy', 'crack', 'craft', 'crafted', 'craig', 'crass', 'crazy', 'cream', 'create', 'creative', 'creator', 'creature', 'credit', 'creek', 'creeped', 'creepy', 'crew', 'crime', 'criminal', 'crippling', 'crisis', 'crispier', 'critic', 'criticized', 'criticizes', 'crohn', 'crone', 'crosby', 'cross', 'crossing', 'crowd', 'crowding', 'cruel', 'crushing', 'cruz', 'cuddle', 'cult', 'cultivation', 'cultural', 'culture', 'cuomo', 'cup', 'curb', 'cured', 'curling', 'current', 'currently', 'cursed', 'customer', 'cut', 'cutest', 'cutscenes', 'cutting', 'cyberspace', 'dad', 'daenerys', 'daily', 'dairy', 'daisy', 'damage', 'damned', 'damon', 'dance', 'dancing', 'danger', 'dangerous', 'dangerously', 'daniel', 'dannon', 'daring', 'dark', 'dash', 'dashiki', 'data', 'date', 'dating', 'daughter', 'dave', 'david', 'davidson', 'day', 'dazzled', 'dead', 'deal', 'death', 'debate', 'debt', 'debut', 'decade', 'december', 'decide', 'decided', 'decides', 'declare', 'declared', 'declares', 'decline', 'decreased', 'deep', 'defamation', 'defaulting', 'defend', 'defends', 'defense', 'defiant', 'deity', 'delay', 'delayed', 'delete', 'delicious', 'delighted', 'delivering', 'deloitte', 'delta', 'delusion', 'demand', 'demanded', 'demanding', 'democrat', 'democratic', 'demon', 'demonic', 'denies', 'department', 'deploying', 'deploys', 'depressed', 'describe', 'describes', 'deserve', 'designated', 'desire', 'desk', 'desktop', 'desolate', 'desperately', 'despite', 'despondent', 'destroyed', 'detective', 'determination', 'determined', 'detest', 'develop', 'developer', 'development', 'devin', 'devoted', 'dew', 'diamondback', 'diaper', 'diarrhea', 'dick', 'did', 'didn', 'die', 'died', 'diet', 'different', 'differing', 'difficult', 'digital', 'digitally', 'dikkers', 'diner', 'dining', 'dinklage', 'dinner', 'diploma', 'dipshit', 'directed', 'direction', 'directly', 'director', 'dirk', 'dirt', 'disabled', 'disappointing', 'disconcerted', 'discourage', 'discover', 'discovered', 'discovery', 'discussion', 'disease', 'disembowel', 'disgusted', 'disgusting', 'dishonor', 'disk', 'dismisses', 'disney', 'disoriented', 'displaying', 'distant', 'distraction', 'district', 'ditch', 'diversity', 'divided', 'dividend', 'divorce', 'divorced', 'dna', 'dnc', 'do', 'doctor', 'documentary', 'doe', 'doesn', 'dog', 'dogg', 'doggy', 'doing', 'doll', 'dollar', 'dolly', 'dolphinsoul', 'don', 'donald', 'donation', 'done', 'door', 'dorm', 'doubt', 'dove', 'down', 'dozen', 'dr', 'draft', 'drafting', 'drag', 'dragged', 'dragging', 'drama', 'draw', 'drawer', 'drawing', 'dreading', 'dream', 'dredge', 'dress', 'dresser', 'dressing', 'drew', 'drinking', 'drive', 'driver', 'driving', 'drone', 'drop', 'dropped', 'dropping', 'drug', 'drumming', 'drunk', 'dry', 'duck', 'due', 'duke', 'dumb', 'dumbass', 'dump', 'dunking', 'during', 'dusty', 'dwarven', 'dwayne', 'dwight', 'dy', 'dying', 'dyke', 'dynamite', 'dysfunction', 'ea', 'each', 'eagle', 'earlier', 'early', 'earn', 'earned', 'earth', 'earthenware', 'easier', 'easily', 'east', 'eastwood', 'easy', 'eat', 'ecologist', 'economic', 'economically', 'economy', 'ecosystem', 'ed', 'eddie', 'eden', 'edgar', 'edition', 'editor', 'educating', 'education', 'edward', 'effective', 'egg', 'either', 'elaborate', 'elderly', 'election', 'elena', 'elephant', 'eli', 'eliminated', 'elizabeth', 'elliott', 'elmo', 'else', 'elvis', 'emaciated', 'email', 'emanuel', 'emasculated', 'embark', 'embarrassed', 'embarrassing', 'embracing', 'emerge', 'emergency', 'emerges', 'emma', 'emo', 'emotion', 'emperor', 'employee', 'empowering', 'empty', 'encampment', 'encourage', 'encourages', 'encouraging', 'end', 'ended', 'endlessly', 'endowment', 'endure', 'enforcement', 'engage', 'engaged', 'engineer', 'english', 'engraved', 'enhancing', 'enjoy', 'enjoyed', 'enjoying', 'enjoys', 'enlargement', 'enough', 'enquirer', 'enslavement', 'ensues', 'entering', 'enters', 'entertain', 'entire', 'entirely', 'entirety', 'entrusted', 'environmental', 'environmentalism', 'ep', 'epa', 'episode', 'era', 'erectile', 'erects', 'eric', 'ernest', 'ernie', 'erotic', 'erupting', 'escalator', 'escaped', 'esports', 'establishing', 'estate', 'et', 'etch', 'eternally', 'euthanized', 'evades', 'evans', 'eve', 'even', 'evenly', 'event', 'ever', 'every', 'everyday', 'everyone', 'everything', 'eviction', 'evidence', 'evolutionary', 'evolve', 'ex', 'exact', 'example', 'exchange', 'exchanging', 'excited', 'exclusive', 'executive', 'exercise', 'exhausted', 'exhumed', 'exist', 'exists', 'exonerates', 'exonerating', 'expands', 'expansion', 'expectation', 'expecting', 'expelled', 'experience', 'expert', 'expires', 'explain', 'explained', 'explore', 'exposing', 'expression', 'extends', 'extensive', 'extinguisher', 'extreme', 'extremely', 'extremist', 'exxonmobil', 'eye', 'face', 'facebook', 'facing', 'fact', 'factory', 'fading', 'fail', 'failed', 'failing', 'fails', 'fair', 'fake', 'fall', 'fallen', 'falling', 'fallon', 'falsifying', 'fame', 'family', 'famous', 'fan', 'fanatically', 'fancy', 'far', 'farberware', 'farm', 'farmer', 'farrow', 'farted', 'fascinating', 'fashion', 'fast', 'fastball', 'fat', 'fatal', 'fate', 'father', 'favorite', 'fda', 'fear', 'feather', 'feature', 'federal', 'fee', 'feedbag', 'feeding', 'feel', 'feeling', 'fell', 'fema', 'female', 'feminine', 'feminism', 'fencer', 'fends', 'fertility', 'fetus', 'few', 'fiction', 'field', 'fight', 'fighting', 'figure', 'fill', 'filling', 'film', 'filming', 'filthiest', 'final', 'finale', 'finally', 'financial', 'find', 'finding', 'fine', 'finish', 'finished', 'finishing', 'fire', 'fired', 'firework', 'first', 'fish', 'fitness', 'fix', 'fjord', 'flag', 'flagrantly', 'flash', 'flavor', 'flicker', 'flight', 'floor', 'floppy', 'florida', 'flower', 'flowing', 'flute', 'fly', 'focus', 'focused', 'fog', 'folder', 'follow', 'followed', 'following', 'fond', 'fondly', 'food', 'foodie', 'fool', 'fooling', 'foolish', 'foot', 'footage', 'football', 'for', 'force', 'forced', 'ford', 'forehead', 'foreign', 'foreseeing', 'forest', 'forever', 'forget', 'forgives', 'forgot', 'forgotten', 'formal', 'former', 'fortune', 'forward', 'foster', 'found', 'founding', 'fountain', 'four', 'fox', 'foxconn', 'frame', 'francis', 'frank', 'frantically', 'frasier', 'frat', 'fraud', 'freak', 'free', 'freeway', 'freeze', 'fresh', 'freshman', 'friday', 'friend', 'frightened', 'frigid', 'fringe', 'frisking', 'frog', 'from', 'front', 'frontrunner', 'fruit', 'frustrated', 'ftw', 'fuck', 'fucked', 'fuckin', 'fucking', 'full', 'fully', 'fumble', 'fun', 'functioning', 'fund', 'fundamental', 'funding', 'funeral', 'furloughed', 'further', 'fury', 'fuss', 'future', 'gaetz', 'gaga', 'gain', 'galaxy', 'gallery', 'game', 'gamers', 'gap', 'garage', 'gardening', 'garish', 'garlin', 'gas', 'gaseous', 'gay', 'gcal', 'gearing', 'general', 'generation', 'genetically', 'genitals', 'genius', 'gently', 'genuinely', 'geographic', 'george', 'georgia', 'german', 'get', 'getting', 'ghost', 'giant', 'gif', 'gift', 'gillibrand', 'ginsburg', 'girl', 'girlfriend', 'girth', 'gist', 'giuliani', 'give', 'given', 'giving', 'glad', 'glade', 'glass', 'glimpse', 'glint', 'glitch', 'gloated', 'global', 'globe', 'globetrotter', 'glory', 'glowing', 'glued', 'gluttony', 'go', 'goal', 'goat', 'god', 'goddamn', 'godfather', 'godzilla', 'goff', 'going', 'golden', 'gonna', 'gooch', 'good', 'goodall', 'goodell', 'googled', 'goose', 'gop', 'gorb', 'gordon', 'gorging', 'gorilla', 'got', 'government', 'governor', 'grade', 'graduated', 'graffiti', 'grain', 'grammys', 'grand', 'grande', 'grandfather', 'grandiose', 'grandma', 'grandmother', 'granted', 'grape', 'grassley', 'grave', 'gravestone', 'great', 'greatest', 'greatly', 'greedy', 'green', 'grew', 'grim', 'grind', 'grip', 'grocery', 'grohl', 'groin', 'gronkowski', 'groove', 'gross', 'grossed', 'ground', 'groundhog', 'group', 'grover', 'grow', 'growing', 'grows', 'grudge', 'gruesome', 'guacamole', 'guard', 'guess', 'guest', 'guggenheim', 'guide', 'guiding', 'guilty', 'guitar', 'gulf', 'gum', 'gun', 'gunn', 'guy', 'gwyneth', 'gym', 'ha', 'habitat', 'hack', 'had', 'hag', 'haggerty', 'hagrid', 'hair', 'hairstyle', 'hal', 'halcyon', 'half', 'halftime', 'halfway', 'hall', 'halle', 'halloween', 'hallucinated', 'hamburger', 'hand', 'hang', 'hanging', 'hank', 'hannibal', 'happen', 'happened', 'happening', 'happier', 'happy', 'harassing', 'harassment', 'harboring', 'hard', 'hardened', 'harder', 'hardly', 'hare', 'harem', 'harlem', 'harness', 'harper', 'harris', 'harrison', 'harrowing', 'harry', 'harshest', 'harvey', 'hasn', 'hat', 'hatch', 'hate', 'hater', 'hathaway', 'have', 'having', 'hawaii', 'he', 'head', 'headed', 'headline', 'heal', 'health', 'healthcare', 'healthy', 'hear', 'heard', 'hearing', 'heart', 'heartbreaking', 'heartbreakingly', 'heartbroken', 'heartfelt', 'heartthrob', 'heartwarming', 'heated', 'heaven', 'heavyset', 'hedgehog', 'hedonistic', 'held', 'helen', 'hell', 'help', 'helping', 'helplessly', 'her', 'herb', 'here', 'heritage', 'hero', 'hickenlooper', 'hidden', 'high', 'highest', 'highly', 'highway', 'hiker', 'him', 'himself', 'hire', 'hired', 'hiring', 'his', 'hiss', 'historian', 'historical', 'history', 'hit', 'hitler', 'hiv', 'hold', 'holding', 'hole', 'hollywood', 'hologram', 'home', 'homeless', 'homework', 'homicide', 'homophobic', 'homosexual', 'honest', 'honesty', 'honk', 'honked', 'honor', 'hooch', 'hood', 'hoodie', 'hook', 'hope', 'hoping', 'horn', 'horrible', 'horribly', 'horrified', 'horrifying', 'horse', 'host', 'hostage', 'hot', 'hotel', 'hotter', 'hour', 'hourly', 'house', 'housing', 'hovering', 'how', 'howard', 'hubble', 'huffing', 'huge', 'huh', 'hulk', 'human', 'humble', 'humiliated', 'humility', 'hundred', 'hung', 'hungover', 'hunky', 'hunt', 'hunting', 'hurl', 'hurling', 'hurry', 'hurt', 'husband', 'husky', 'hustle', 'hutt', 'hygiene', 'ice', 'iconic', 'idea', 'identical', 'identifying', 'identity', 'ideological', 'idiot', 'idolizing', 'if', 'ignorance', 'ignoring', 'ihop', 'iii', 'ilhan', 'ill', 'illegal', 'image', 'imagine', 'imagined', 'imdb', 'immediately', 'immigrant', 'impersonator', 'importance', 'imposed', 'impossible', 'impressed', 'impression', 'improving', 'in', 'inaccurate', 'incentive', 'inch', 'includes', 'inclusivity', 'incoherent', 'income', 'incompetent', 'inconsiderate', 'inconsolable', 'increase', 'increasing', 'increasingly', 'incredible', 'incredibly', 'indefinitely', 'independence', 'independent', 'india', 'indian', 'indicator', 'indicted', 'indifferent', 'indignant', 'individually', 'indoor', 'industry', 'infant', 'influencer', 'influential', 'infowars', 'ingenuity', 'ingesting', 'initial', 'initiative', 'injection', 'injects', 'injured', 'injury', 'innocence', 'innocent', 'insane', 'insanity', 'insect', 'inserted', 'insists', 'inspect', 'inspiration', 'inspire', 'inspired', 'inspires', 'inspiring', 'instagram', 'instead', 'instinct', 'instruct', 'instruction', 'instructs', 'integrated', 'intellectual', 'intelligence', 'intelligent', 'intended', 'intense', 'intentional', 'intercontinental', 'interest', 'interesting', 'interface', 'interior', 'interminable', 'internet', 'internment', 'interpretation', 'intervention', 'intimidating', 'intimidation', 'into', 'intrepid', 'intrigue', 'introduced', 'introduces', 'intruder', 'invasion', 'investigation', 'investment', 'investor', 'invite', 'invited', 'involve', 'involvement', 'involves', 'iowa', 'ipad', 'ipads', 'iq', 'iran', 'iraqi', 'iron', 'is', 'isi', 'islam', 'island', 'isn', 'israel', 'israeli', 'issue', 'issued', 'it', 'italian', 'itt', 'izzo', 'jabba', 'jack', 'jackass', 'jacking', 'jackson', 'jacob', 'jail', 'jaipur', 'james', 'jane', 'japan', 'jared', 'jason', 'jazz', 'jeff', 'jeremy', 'jermaine', 'jerry', 'jersey', 'jesus', 'jetpack', 'jewel', 'jim', 'jimmy', 'job', 'jockey', 'jodie', 'joe', 'jogging', 'johansson', 'john', 'johnson', 'join', 'joining', 'joint', 'joke', 'joker', 'jones', 'jong', 'jordan', 'journalism', 'joy', 'jr', 'judge', 'juice', 'julia', 'jump', 'jumped', 'jury', 'jussie', 'just', 'justice', 'justin', 'kagan', 'kamala', 'kansa', 'kanye', 'kappa', 'karl', 'kate', 'kavanaugh', 'keep', 'keeping', 'kelly', 'kept', 'key', 'keyboard', 'keywords', 'kicking', 'kid', 'kill', 'killed', 'killer', 'killing', 'kim', 'kind', 'kinda', 'king', 'kingdom', 'kirsten', 'kissing', 'klobuchar', 'knew', 'knicks', 'knit', 'knocked', 'know', 'korea', 'kotex', 'krishna', 'kristen', 'kunis', 'kurt', 'kushner', 'kuwait', 'kyle', 'lab', 'labeled', 'labeouf', 'laborer', 'lace', 'laden', 'lady', 'lagerfeld', 'lagging', 'laid', 'lake', 'laker', 'lakers', 'land', 'language', 'laptop', 'lasagna', 'last', 'late', 'later', 'latest', 'laughter', 'launch', 'launching', 'law', 'lawsuit', 'lay', 'laying', 'lazy', 'le', 'lead', 'leaderboard', 'leadership', 'leading', 'leaf', 'league', 'leak', 'leaked', 'leaning', 'learn', 'learned', 'learnin', 'learning', 'least', 'leave', 'lebowski', 'lebron', 'lecter', 'lee', 'left', 'leg', 'legacy', 'legal', 'legally', 'legend', 'leprechaun', 'lesson', 'let', 'lethal', 'letting', 'level', 'leveraging', 'levitates', 'liberal', 'lick', 'liege', 'life', 'lifehouse', 'lifestyle', 'lifetime', 'lift', 'light', 'like', 'liked', 'likely', 'limit', 'limited', 'limiting', 'limo', 'lincoln', 'lindsay', 'line', 'lingerie', 'link', 'lion', 'lip', 'lipstick', 'liquid', 'liquor', 'lisa', 'list', 'listened', 'lit', 'literally', 'literary', 'little', 'live', 'lived', 'living', 'll', 'loan', 'lobbyist', 'local', 'lock', 'locked', 'lodging', 'log', 'logitech', 'logo', 'lohan', 'lol', 'london', 'lonely', 'long', 'longer', 'longevity', 'look', 'looked', 'looking', 'loose', 'lord', 'lori', 'lose', 'loses', 'losing', 'lost', 'loud', 'loudly', 'loughlin', 'louie', 'louis', 'love', 'lover', 'low', 'loyal', 'loyalty', 'lucas', 'lucky', 'lunatic', 'lure', 'luxury', 'machine', 'mackenzie', 'macy', 'mad', 'madd', 'madden', 'made', 'magic', 'mailing', 'mainstream', 'major', 'majority', 'make', 'maker', 'makeup', 'making', 'malala', 'male', 'malicious', 'malkovich', 'mall', 'malone', 'mama', 'man', 'manafort', 'manage', 'manager', 'mandatory', 'manic', 'mannered', 'manning', 'mansion', 'manufacturing', 'manuscript', 'many', 'mar', 'march', 'marijuana', 'marine', 'mario', 'mark', 'marker', 'market', 'marketer', 'marketing', 'maroon', 'marred', 'married', 'marvel', 'mary', 'masculinity', 'mask', 'masked', 'massage', 'massive', 'masturbated', 'masturbating', 'mate', 'math', 'matrix', 'matt', 'mattel', 'matter', 'mattress', 'maul', 'mauled', 'maverick', 'max', 'maximum', 'may', 'maybelline', 'mccain', 'mccartney', 'mcconnell', 'mckinley', 'mcvay', 'me', 'meadow', 'meal', 'mean', 'meat', 'med', 'medicinal', 'medium', 'meet', 'meltdown', 'member', 'membership', 'meme', 'memo', 'memorial', 'memory', 'men', 'menks', 'mental', 'mentor', 'menu', 'meow', 'mercifully', 'merely', 'merit', 'meteor', 'method', 'methodically', 'mets', 'mewtwo', 'mic', 'michael', 'michigan', 'microsoft', 'mid', 'middle', 'miffed', 'might', 'mighty', 'migrating', 'migration', 'mike', 'mila', 'mild', 'mile', 'military', 'mill', 'million', 'mimic', 'mind', 'minded', 'mindfulness', 'mini', 'minister', 'minnesota', 'minority', 'minute', 'misappropriate', 'misplacing', 'miss', 'missile', 'missing', 'mission', 'missionary', 'mistake', 'mistaken', 'mistaking', 'mitzvah', 'mix', 'mixed', 'mlb', 'mlk', 'moaning', 'mobile', 'modern', 'molested', 'molesting', 'mollusk', 'mom', 'moment', 'mommy', 'momoa', 'mon', 'monarchy', 'money', 'monica', 'monocle', 'monster', 'month', 'moon', 'moore', 'more', 'morgan', 'morning', 'moscow', 'most', 'mother', 'motorcade', 'motorcycle', 'mount', 'mountain', 'mouth', 'move', 'movement', 'movie', 'moviepass', 'moving', 'mr', 'msnbc', 'mta', 'much', 'mueller', 'multiple', 'multiply', 'mumbled', 'mural', 'murder', 'murdered', 'museum', 'music', 'must', 'mutilated', 'mutually', 'muzzle', 'my', 'mystery', 'mythical', 'na', 'naked', 'name', 'named', 'nancy', 'narrative', 'narrow', 'nasa', 'nascar', 'nation', 'national', 'nationwide', 'natural', 'nature', 'naughty', 'nazi', 'nba', 'ncaa', 'near', 'nearly', 'neat', 'neck', 'need', 'needed', 'neglect', 'neighbor', 'nephew', 'nepotism', 'nerd', 'nervous', 'net', 'netanyahu', 'netflix', 'network', 'never', 'new', 'newborn', 'newly', 'news', 'newsroom', 'next', 'nfl', 'nhl', 'nice', 'nick', 'nickname', 'nicoderm', 'nicotine', 'night', 'nightmare', 'nike', 'nipple', 'nixon', 'no', 'nobody', 'nomination', 'non', 'none', 'nonstick', 'norbit', 'normal', 'north', 'northam', 'nosed', 'not', 'note', 'nothing', 'notice', 'noticeably', 'noticing', 'notification', 'novel', 'now', 'nowitzki', 'nub', 'nuclear', 'nude', 'nudity', 'nuking', 'number', 'numerous', 'nun', 'nunes', 'nurse', 'nursing', 'nutsarito', 'nypd', 'obama', 'obscurity', 'obtained', 'obvious', 'ocasio', 'octopus', 'octuplets', 'of', 'off', 'offended', 'offensive', 'offer', 'offering', 'office', 'official', 'officially', 'offspring', 'ohio', 'oil', 'okay', 'okcupid', 'old', 'older', 'olympics', 'omar', 'on', 'once', 'one', 'onion', 'online', 'only', 'onto', 'open', 'opened', 'opening', 'openly', 'operate', 'opioid', 'opportunity', 'oppressed', 'oppression', 'oprah', 'option', 'opts', 'or', 'orange', 'orangutan', 'orca', 'orchestra', 'orchid', 'order', 'ordinary', 'organ', 'organization', 'originally', 'oriole', 'osama', 'oscar', 'other', 'others', 'otherwise', 'our', 'out', 'outlet', 'outraged', 'outside', 'over', 'overall', 'overcome', 'overdue', 'overeager', 'overflowing', 'overly', 'overruled', 'overstepping', 'overturn', 'ovulation', 'own', 'owned', 'owner', 'ox', 'oz', 'pace', 'pacing', 'pack', 'package', 'packed', 'packing', 'page', 'pain', 'painful', 'painted', 'pair', 'pajama', 'pakistan', 'palace', 'pallid', 'palm', 'paltrow', 'pam', 'pamela', 'pancreatic', 'panda', 'pandering', 'panel', 'panic', 'pansy', 'pant', 'pantry', 'papa', 'paper', 'parade', 'paramedic', 'paramount', 'parasitic', 'pardon', 'parent', 'parenthood', 'parenting', 'park', 'parked', 'parking', 'part', 'particular', 'particularly', 'parting', 'partner', 'parton', 'party', 'pas', 'pass', 'passed', 'passenger', 'passionate', 'passive', 'past', 'pat', 'patch', 'patient', 'patrick', 'patriot', 'patted', 'pattern', 'paul', 'paused', 'paycheck', 'paying', 'pc', 'peace', 'peanut', 'pedestrian', 'pedophile', 'pedophilia', 'peds', 'peek', 'pegg', 'pelosi', 'peloton', 'penguin', 'penis', 'penned', 'penny', 'pentagon', 'pentagram', 'people', 'pepperoni', 'per', 'percent', 'percentage', 'perception', 'perfect', 'perfectly', 'performance', 'period', 'permission', 'perpetually', 'person', 'personal', 'perspective', 'pet', 'petal', 'pete', 'peter', 'petting', 'pharma', 'phase', 'phelps', 'phenomenon', 'phil', 'phillies', 'phone', 'photo', 'photograph', 'photoshop', 'physical', 'pick', 'picking', 'picture', 'piece', 'pierced', 'pikachu', 'pile', 'piled', 'pilfering', 'pill', 'pilot', 'pilsner', 'pincher', 'pinocchios', 'pinpoint', 'pinterest', 'piss', 'pissed', 'pitbull', 'pitch', 'pitcher', 'pitt', 'pittsburgh', 'pivot', 'place', 'placed', 'placing', 'plain', 'plan', 'plane', 'planet', 'planned', 'planner', 'plant', 'plaque', 'play', 'playable', 'played', 'player', 'playing', 'pleading', 'please', 'pleasure', 'pleasureless', 'pledge', 'plotting', 'plug', 'poached', 'podcast', 'podium', 'poe', 'point', 'pointing', 'polar', 'polaris', 'pole', 'police', 'policy', 'polite', 'poll', 'pony', 'pooh', 'pool', 'poor', 'pop', 'pope', 'popper', 'popping', 'poppins', 'poppy', 'populace', 'popular', 'popularity', 'pork', 'porkin', 'porn', 'porno', 'pornographer', 'pornographic', 'portrayed', 'portugal', 'pose', 'position', 'positive', 'positivity', 'possible', 'possibly', 'post', 'posted', 'posthumous', 'posthumously', 'posting', 'postpones', 'potentially', 'potter', 'pound', 'poverty', 'power', 'powered', 'powerful', 'powerpoint', 'pr', 'practicing', 'praised', 'pre', 'precedent', 'precious', 'predict', 'predicted', 'prediction', 'predisposed', 'preemptive', 'pregnant', 'premium', 'prepare', 'prepares', 'present', 'preserve', 'presidency', 'president', 'presidential', 'press', 'pressure', 'presumptuous', 'pretending', 'pretties', 'pretty', 'preventing', 'previously', 'price', 'pride', 'primal', 'primary', 'prime', 'prince', 'princess', 'print', 'prison', 'prisoner', 'privacy', 'private', 'pro', 'probably', 'probe', 'problem', 'prodigy', 'produce', 'product', 'production', 'professional', 'professor', 'profile', 'profit', 'profitability', 'profitably', 'prog', 'prognosis', 'program', 'programmer', 'progress', 'progressive', 'project', 'prolongs', 'promise', 'promising', 'promote', 'promotion', 'pronounce', 'propeller', 'property', 'proposal', 'proprietary', 'prosecutor', 'prospect', 'protect', 'protection', 'protective', 'protest', 'protesting', 'protruding', 'proud', 'prove', 'proved', 'provide', 'provides', 'proving', 'provocation', 'psa', 'psyche', 'pubes', 'public', 'publicist', 'publish', 'published', 'publishes', 'publishing', 'pueblo', 'pull', 'pulling', 'punching', 'punisher', 'punishment', 'punxsutawney', 'puppet', 'purdue', 'purge', 'purpose', 'pursue', 'push', 'put', 'putin', 'putting', 'quality', 'quarterback', 'quarterly', 'quashes', 'queen', 'question', 'quick', 'quietly', 'quit', 'quite', 'quits', 'quota', 'quote', 'race', 'racecars', 'racehorse', 'racetrack', 'racist', 'rack', 'radical', 'radicalized', 'rahm', 'rail', 'raised', 'raising', 'ralph', 'ram', 'rambling', 'ramp', 'rampage', 'ramsay', 'ran', 'random', 'randos', 'randy', 'ranger', 'rank', 'ranked', 'ranting', 'rapidly', 'rapper', 'rare', 'rarely', 'rat', 'rate', 'rating', 're', 'reabsorb', 'read', 'reader', 'ready', 'reagan', 'real', 'reality', 'realize', 'realizes', 'realizing', 'really', 'reason', 'rebrand', 'rebuttal', 'recall', 'receive', 'receiving', 'recent', 'receptor', 'recital', 'recite', 'reckless', 'reclusive', 'recognize', 'recommends', 'reconstruction', 'record', 'recovered', 'recovering', 'recovery', 'recruiter', 'recruitment', 'recycling', 'red', 'redemption', 'redmayne', 'reese', 'referring', 'refers', 'refuse', 'refusing', 'regime', 'register', 'regulating', 'rehires', 'reimagined', 'reiterates', 'rejecting', 'rejection', 'rejoice', 'rekindling', 'relapse', 'relatable', 'relationship', 'relax', 'relaxed', 'release', 'released', 'releasing', 'relic', 'relieved', 'religious', 'rely', 'remain', 'remaining', 'remember', 'remembered', 'remembering', 'remembers', 'remind', 'reminder', 'reminding', 'reminds', 'remington', 'remove', 'renner', 'rental', 'repair', 'repeat', 'repeated', 'replace', 'replaced', 'replaces', 'report', 'reportedly', 'reporter', 'reporting', 'represent', 'representative', 'reproductive', 'republican', 'reputation', 'requirement', 'rerun', 'rescue', 'rescued', 'research', 'researcher', 'residency', 'resident', 'resign', 'resigns', 'resistance', 'resolve', 'respect', 'respectful', 'responder', 'responsible', 'rest', 'restaurant', 'restricts', 'result', 'resum', 'retaining', 'rethink', 'retire', 'retiring', 'retrieve', 'retriever', 'return', 'returning', 'reunion', 'reusing', 'reveal', 'revealed', 'revealing', 'reveals', 'revenge', 'review', 'revlon', 'rex', 'rhapsody', 'rhinestone', 'rhode', 'rich', 'richard', 'rid', 'riddle', 'ride', 'rider', 'riding', 'ridley', 'rifle', 'right', 'ringing', 'rink', 'rip', 'ripper', 'rise', 'rising', 'risk', 'rival', 'river', 'riverwalk', 'road', 'roadside', 'roaring', 'rob', 'robbery', 'robbins', 'robert', 'robs', 'rock', 'rockefeller', 'rocker', 'rocket', 'rodent', 'roger', 'rohypnol', 'role', 'roll', 'roller', 'rollerblading', 'rolling', 'romo', 'ronan', 'roof', 'rooftop', 'room', 'rose', 'rotation', 'roulette', 'rourke', 'rover', 'row', 'rowling', 'roy', 'royalty', 'rpg', 'ruby', 'rudy', 'ruffalo', 'ruin', 'ruined', 'ruining', 'rule', 'rumor', 'run', 'running', 'runway', 'rushing', 'russia', 'ruth', 'sad', 'safe', 'safely', 'safer', 'safety', 'saga', 'said', 'sailor', 'sainthood', 'sajak', 'sake', 'salary', 'saliva', 'salmonella', 'same', 'samuel', 'sander', 'sandwich', 'santa', 'santorum', 'satellite', 'saturday', 'saudi', 'saved', 'saving', 'savior', 'saw', 'saxophone', 'say', 'saying', 'scam', 'scandal', 'scarface', 'scarlett', 'scene', 'schiff', 'scholar', 'school', 'schoolyard', 'schultz', 'science', 'scientific', 'scientist', 'score', 'scoring', 'scotland', 'scott', 'scouting', 'scrambling', 'screaming', 'screen', 'script', 'scroll', 'scrub', 'sea', 'seal', 'sean', 'search', 'searching', 'sears', 'season', 'seat', 'seated', 'seating', 'seaworld', 'second', 'secondary', 'secret', 'secretary', 'sect', 'section', 'security', 'sedentary', 'see', 'seed', 'seeing', 'seek', 'seem', 'seems', 'seen', 'segregation', 'selects', 'self', 'sell', 'sematary', 'senate', 'senator', 'send', 'sending', 'sends', 'sense', 'sensei', 'senseless', 'sent', 'sentence', 'serial', 'series', 'serious', 'seriously', 'served', 'server', 'service', 'sesame', 'session', 'set', 'settle', 'settlement', 'seventh', 'sex', 'sexist', 'sexual', 'sexually', 'sexy', 'shadow', 'shakily', 'shallow', 'shannon', 'shape', 'shaped', 'shard', 'share', 'sharing', 'sharp', 'sharpe', 'shattered', 'shatters', 'shave', 'shawn', 'she', 'sheer', 'sheldon', 'shia', 'ship', 'shirt', 'shit', 'shithead', 'shitload', 'shitty', 'shock', 'shocked', 'shocking', 'shoemaker', 'shoot', 'shooter', 'shooting', 'shop', 'shopping', 'shore', 'short', 'shot', 'shotgun', 'should', 'shouted', 'show', 'showbiz', 'showed', 'showing', 'shrivels', 'shuddering', 'shut', 'shutdown', 'shutting', 'sick', 'side', 'sidewalk', 'sighing', 'sign', 'signal', 'significant', 'signing', 'silent', 'silently', 'silly', 'silver', 'silverware', 'simon', 'simple', 'simulate', 'since', 'singer', 'singing', 'single', 'sings', 'sister', 'sit', 'sitcom', 'site', 'sitting', 'six', 'size', 'sketch', 'skewed', 'skinny', 'skip', 'slapped', 'slaughtering', 'sleep', 'sleeper', 'sleeping', 'sleeve', 'sliced', 'slims', 'slip', 'slogan', 'slot', 'slow', 'slowly', 'small', 'smaller', 'smarter', 'smash', 'smell', 'smelling', 'smiling', 'smithers', 'smoke', 'smoking', 'smollett', 'smooth', 'smug', 'smut', 'snack', 'snake', 'snap', 'sneak', 'sniper', 'snoop', 'snow', 'snowden', 'snowstorm', 'snub', 'snuck', 'so', 'soar', 'sobbing', 'sober', 'social', 'society', 'socioeconomic', 'soda', 'soft', 'solange', 'soldier', 'solely', 'solemnly', 'solution', 'solve', 'solving', 'somber', 'some', 'someone', 'someplace', 'something', 'son', 'song', 'soon', 'soprano', 'sorry', 'sort', 'sorting', 'soul', 'sound', 'south', 'southern', 'spa', 'space', 'spacecraft', 'spacewalk', 'spanx', 'spared', 'spark', 'sparking', 'spartan', 'spay', 'speaking', 'special', 'specie', 'speech', 'speed', 'speeding', 'spell', 'spend', 'spending', 'spends', 'spent', 'spews', 'spice', 'spider', 'spielberg', 'spill', 'spinning', 'spiraling', 'spirit', 'split', 'sponsored', 'sport', 'spot', 'spotted', 'spotting', 'spray', 'spread', 'spring', 'springsteenville', 'sprinting', 'square', 'squeezed', 'squirrel', 'st', 'stabbing', 'stability', 'stacey', 'stadium', 'staff', 'staffer', 'stage', 'stain', 'stair', 'stake', 'stammer', 'stamos', 'stamp', 'stance', 'stand', 'standing', 'standoff', 'star', 'starbucks', 'stardew', 'staring', 'starkist', 'starring', 'start', 'started', 'starting', 'starvation', 'starving', 'stash', 'state', 'statehood', 'statement', 'station', 'statistic', 'statue', 'status', 'staunch', 'staunchly', 'stay', 'stayed', 'steadily', 'steady', 'steer', 'steering', 'stem', 'step', 'steve', 'steven', 'stew', 'stewart', 'stick', 'sticking', 'still', 'stiller', 'stimulus', 'stock', 'stocking', 'stolen', 'stone', 'stoned', 'stop', 'store', 'story', 'straight', 'straitjacket', 'stranded', 'stranger', 'strategy', 'stray', 'streaming', 'street', 'stress', 'strict', 'strike', 'string', 'strip', 'strongest', 'struggling', 'strutting', 'stuck', 'studded', 'student', 'studio', 'study', 'stuff', 'stuffed', 'stumble', 'stumbled', 'stung', 'stunt', 'stupid', 'style', 'styrofoam', 'suave', 'subjecting', 'submit', 'subscriber', 'subsidy', 'success', 'successful', 'successfully', 'succumbs', 'such', 'suck', 'sucked', 'sudden', 'suddenly', 'sue', 'sufferer', 'suffers', 'sugar', 'suggests', 'suicide', 'suit', 'suitable', 'summit', 'sunburned', 'sunday', 'sunlight', 'super', 'supper', 'supplement', 'supplier', 'support', 'supporter', 'supportive', 'supremacy', 'supreme', 'sure', 'surface', 'surgeon', 'surgery', 'surprise', 'surround', 'survey', 'survived', 'susan', 'sushi', 'suspected', 'suspended', 'suspicious', 'swamp', 'swarm', 'sweater', 'sweating', 'sweet', 'swiftly', 'swim', 'swimming', 'switched', 'swollen', 'sword', 'sympathetic', 'syndrome', 'syria', 'syrian', 'syrup', 'system', 'table', 'tablet', 'tabloid', 'taco', 'take', 'taken', 'taking', 'talented', 'talentless', 'taliban', 'talk', 'talked', 'talking', 'tall', 'tampon', 'tank', 'tantalizingly', 'tap', 'tape', 'tarantula', 'targeting', 'tarp', 'taste', 'tasting', 'tattoo', 'taught', 'tax', 'taxidermied', 'taz', 'tea', 'teach', 'teacher', 'team', 'teammate', 'teamwork', 'technically', 'technician', 'ted', 'teddy', 'teen', 'teenager', 'telecast', 'telemarketer', 'telephone', 'telescope', 'tell', 'telling', 'temperature', 'temporal', 'temporarily', 'ten', 'tense', 'tenured', 'term', 'terminally', 'terrible', 'terribly', 'terrifying', 'terrorist', 'terrorize', 'terrorizing', 'test', 'testicle', 'testimony', 'testing', 'texas', 'texting', 'th', 'than', 'thank', 'thankful', 'thanks', 'thanos', 'that', 'the', 'theater', 'their', 'them', 'then', 'theory', 'there', 'these', 'they', 'thing', 'think', 'thinking', 'third', 'this', 'thong', 'those', 'thou', 'though', 'thought', 'thousand', 'threat', 'threaten', 'threatened', 'threatens', 'three', 'thriller', 'throat', 'throne', 'through', 'throughout', 'throw', 'throwing', 'thumb', 'thwip', 'ticket', 'tie', 'tiger', 'tilt', 'tim', 'time', 'timeline', 'tiny', 'tip', 'tipton', 'tired', 'tissue', 'titan', 'tithe', 'tmz', 'to', 'today', 'toddler', 'together', 'toilet', 'tokyo', 'told', 'tolerate', 'tom', 'tommy', 'tomorrow', 'tongue', 'tonight', 'tony', 'too', 'took', 'toon', 'toot', 'top', 'topsy', 'tornado', 'torture', 'total', 'totally', 'toting', 'touch', 'touchdown', 'touchstone', 'tough', 'tour', 'tourist', 'touted', 'toward', 'towards', 'tower', 'town', 'toxic', 'toy', 'track', 'trading', 'tradition', 'traffic', 'tragedy', 'trail', 'trailer', 'train', 'trainer', 'training', 'transcends', 'transforms', 'transparency', 'transportation', 'travel', 'traveler', 'treadmill', 'treasury', 'treat', 'tree', 'trend', 'trick', 'tried', 'trigger', 'trojan', 'trolley', 'troop', 'trophy', 'troublehacking', 'troubling', 'trout', 'truck', 'trudeau', 'true', 'truly', 'trump', 'trunk', 'trust', 'try', 'trying', 'tsa', 'tucker', 'tuesday', 'tumbleweed', 'tumor', 'tuna', 'tunnel', 'turbulent', 'turn', 'turner', 'turning', 'tv', 'twain', 'tweet', 'tweeted', 'tweeting', 'twitter', 'two', 'tylenol', 'type', 'typist', 'ugly', 'ulta', 'ultrasound', 'um', 'un', 'unable', 'unaware', 'unbridled', 'unconstitutional', 'uncover', 'uncovered', 'uncovers', 'under', 'undergrad', 'underneath', 'underrated', 'understand', 'underwear', 'unemployed', 'unexplored', 'unfair', 'unfortunate', 'unhappily', 'uniform', 'uninspired', 'uninvited', 'union', 'unisex', 'united', 'universe', 'university', 'unknowable', 'unless', 'unlicensed', 'unmasked', 'unnecessary', 'unpaid', 'unplayed', 'unplugged', 'unprepared', 'unrealistic', 'unsafe', 'unsettling', 'unsolved', 'unsure', 'unsuspecting', 'until', 'unusual', 'unveiled', 'unveils', 'unwanted', 'up', 'upbeat', 'update', 'upon', 'upset', 'upside', 'urge', 'urged', 'urinal', 'usa', 'usc', 'usda', 'use', 'used', 'useless', 'user', 'using', 'vacation', 'vaccinate', 'vague', 'valentine', 'validated', 'valley', 'value', 'van', 'vanilla', 'vaping', 'variant', 'variety', 'vatican', 'vaulter', 've', 'vegan', 'vehicle', 'venezuela', 'verdict', 'verge', 'very', 'viable', 'viciously', 'victoria', 'victory', 'video', 'vietnam', 'view', 'viewer', 'viewership', 'vigilante', 'village', 'villain', 'vinyl', 'violence', 'violent', 'virgin', 'virginia', 'virginity', 'visit', 'visited', 'visiting', 'visitor', 'visualizing', 'vital', 'vivisection', 'vj', 'vladimir', 'vodka', 'voice', 'volatile', 'volunteer', 'vomit', 'vortex', 'vote', 'voted', 'voter', 'vow', 'vp', 'wa', 'wait', 'waiting', 'wake', 'waking', 'walgreens', 'walk', 'wall', 'wallace', 'wand', 'want', 'war', 'warehouse', 'warm', 'warming', 'warmth', 'warn', 'warren', 'wartime', 'wary', 'washing', 'washington', 'wasn', 'waste', 'wasteland', 'wasting', 'watch', 'watched', 'watcher', 'watching', 'water', 'waving', 'way', 'waylon', 'we', 'weak', 'wealthy', 'wear', 'wearable', 'wearing', 'weather', 'web', 'website', 'weed', 'week', 'weekend', 'weekly', 'weepy', 'weighing', 'weight', 'weinstein', 'weird', 'weirded', 'weirdo', 'welcome', 'wendy', 'went', 'were', 'weren', 'werewolf', 'west', 'whale', 'wharton', 'what', 'whatever', 'wheel', 'wheelchair', 'wheeled', 'when', 'whenever', 'where', 'whether', 'which', 'while', 'whipped', 'white', 'whiteboard', 'who', 'whoa', 'whole', 'whose', 'why', 'wide', 'widow', 'wife', 'wikipedia', 'will', 'willed', 'william', 'williamson', 'willing', 'win', 'winded', 'window', 'windshield', 'wine', 'winfrey', 'winnie', 'wiper', 'wire', 'wireless', 'wisconsin', 'wish', 'with', 'witherspoon', 'within', 'without', 'witness', 'witnessed', 'wizard', 'woefully', 'woman', 'won', 'wondering', 'woodcut', 'woos', 'word', 'work', 'worker', 'working', 'worksheet', 'world', 'worldwide', 'worm', 'worried', 'worse', 'worst', 'worth', 'would', 'wouldn', 'wow', 'wrapped', 'wreath', 'wrestler', 'writer', 'writing', 'written', 'wrong', 'wrote', 'wwii', 'yankee', 'yard', 'yeah', 'year', 'yearly', 'yeezy', 'yell', 'yellow', 'yes', 'yet', 'yoda', 'yoga', 'yogurt', 'york', 'yosemite', 'you', 'young', 'your', 'yourself', 'yousafzai', 'youtube', 'zara', 'zendaya', 'zero', 'zion', 'zoo', 'zookeeper', 'zuckerberg']\n"
     ]
    }
   ],
   "source": [
    "vocab = cvec.get_feature_names()\n",
    "print(vocab)"
   ]
  },
  {
   "cell_type": "markdown",
   "metadata": {},
   "source": [
    "### Using CountVectorizer to Find Frequently Used Words"
   ]
  },
  {
   "cell_type": "code",
   "execution_count": 43,
   "metadata": {},
   "outputs": [],
   "source": [
    "def term_counts(df, stop_list = None,n_gram = (1,1)):\n",
    "    \n",
    "    # Count Vectorize\n",
    "    cvec = CountVectorizer(stop_words = stop_list,ngram_range= n_gram)\n",
    "    title_cvec = pd.DataFrame(cvec.fit_transform(df['title']).toarray(),\n",
    "                          columns = cvec.get_feature_names())\n",
    "\n",
    "    # See word counts\n",
    "    counts = title_cvec.sum().sort_values(0, ascending=False)\n",
    "    \n",
    "    return counts"
   ]
  },
  {
   "cell_type": "code",
   "execution_count": 44,
   "metadata": {},
   "outputs": [
    {
     "data": {
      "text/plain": [
       "Text(0, 0.5, 'Words')"
      ]
     },
     "execution_count": 44,
     "metadata": {},
     "output_type": "execute_result"
    },
    {
     "data": {
      "image/png": "[encoded data removed]",
      "text/plain": [
       "<Figure size 1440x864 with 1 Axes>"
      ]
     },
     "metadata": {},
     "output_type": "display_data"
    }
   ],
   "source": [
    "onion_bigram_counts = pd.DataFrame(term_counts(df = df_onion,n_gram=(2,2),stop_list = 'english'), columns=[\"count\"])\n",
    "\n",
    "onion_top_bigrams = onion_bigram_counts.head(15).sort_values(by = 'count',ascending = True)\n",
    "onion_top_bigrams.plot(kind = 'barh',figsize=(20,12),color = '#006b3a',fontsize=20)\n",
    "plt.title('Most Frequently Occuring Bigrams in Posts on r/TheOnion',size = 30)\n",
    "plt.xlabel('Counts', size = 25)\n",
    "plt.ylabel('Words', size = 25)\n",
    "#plt.figtext(.4,.4,f'Number of Unique Bigrams: {len(onion_bigram_counts)}')"
   ]
  },
  {
   "cell_type": "markdown",
   "metadata": {},
   "source": [
    "#### TheOnion (no stop words)"
   ]
  },
  {
   "cell_type": "code",
   "execution_count": 47,
   "metadata": {},
   "outputs": [
    {
     "name": "stdout",
     "output_type": "stream",
     "text": [
      "Number of Unique Words: 4503\n"
     ]
    },
    {
     "data": {
      "text/plain": [
       "to        370\n",
       "of        301\n",
       "the       225\n",
       "in        162\n",
       "for       139\n",
       "on        107\n",
       "this       98\n",
       "and        96\n",
       "he         96\n",
       "it         84\n",
       "that       83\n",
       "new        80\n",
       "with       73\n",
       "by         68\n",
       "has        68\n",
       "at         64\n",
       "man        60\n",
       "what       58\n",
       "his        58\n",
       "they       55\n",
       "just       55\n",
       "is         53\n",
       "be         52\n",
       "after      51\n",
       "you        50\n",
       "as         46\n",
       "said       45\n",
       "trump      45\n",
       "from       44\n",
       "who        42\n",
       "out        41\n",
       "about      40\n",
       "up         40\n",
       "will       38\n",
       "all        36\n",
       "into       35\n",
       "not        34\n",
       "report     33\n",
       "have       33\n",
       "was        31\n",
       "your       31\n",
       "like       31\n",
       "year       30\n",
       "her        27\n",
       "him        27\n",
       "if         26\n",
       "now        26\n",
       "an         26\n",
       "can        26\n",
       "old        25\n",
       "off        25\n",
       "when       25\n",
       "dtype: int64"
      ]
     },
     "execution_count": 47,
     "metadata": {},
     "output_type": "execute_result"
    }
   ],
   "source": [
    "cvec = CountVectorizer()\n",
    "# Fit our CountVectorizer on the training data and transform training data.\n",
    "onion_cvec = pd.DataFrame(cvec.fit_transform(df_onion['title']).todense(),\n",
    "                          columns = cvec.get_feature_names())\n",
    "print(f'Number of Unique Words: {onion_cvec.shape[1]}')\n",
    "onion_cvec.sum()[onion_cvec.sum() >= 25].sort_values(ascending = False)"
   ]
  },
  {
   "cell_type": "markdown",
   "metadata": {},
   "source": [
    "#### TheOnion (bigrams, no stop words) "
   ]
  },
  {
   "cell_type": "code",
   "execution_count": 48,
   "metadata": {},
   "outputs": [
    {
     "name": "stdout",
     "output_type": "stream",
     "text": [
      "Number of Unique Bigrams: 10006\n"
     ]
    },
    {
     "data": {
      "text/plain": [
       "said what     44\n",
       "of the        22\n",
       "in the        15\n",
       "year old      14\n",
       "to be         14\n",
       "to get        11\n",
       "will be       10\n",
       "super bowl    10\n",
       "out of        10\n",
       "dtype: int64"
      ]
     },
     "execution_count": 48,
     "metadata": {},
     "output_type": "execute_result"
    }
   ],
   "source": [
    "cvec = CountVectorizer(ngram_range=(2,2))\n",
    "# Fit our CountVectorizer on the training data and transform training data.\n",
    "onion_bigram_cvec = pd.DataFrame(cvec.fit_transform(df_onion['title']).todense(),\n",
    "                          columns = cvec.get_feature_names())\n",
    "print(f'Number of Unique Bigrams: {onion_bigram_cvec.shape[1]}')\n",
    "onion_bigram_cvec.sum()[onion_bigram_cvec.sum()>=10].sort_values(ascending = False)"
   ]
  },
  {
   "cell_type": "code",
   "execution_count": 49,
   "metadata": {},
   "outputs": [
    {
     "data": {
      "text/plain": [
       "<matplotlib.axes._subplots.AxesSubplot at 0x22451465198>"
      ]
     },
     "execution_count": 49,
     "metadata": {},
     "output_type": "execute_result"
    },
    {
     "data": {
      "image/png": "[encoded data removed]",
      "text/plain": [
       "<Figure size 864x576 with 1 Axes>"
      ]
     },
     "metadata": {},
     "output_type": "display_data"
    }
   ],
   "source": [
    "onion_bigram_cvec_top = onion_bigram_cvec.sum().sort_values(ascending = True).tail(25)\n",
    "onion_bigram_cvec_top.plot(kind = 'barh',figsize=(12,8))"
   ]
  },
  {
   "cell_type": "markdown",
   "metadata": {},
   "source": [
    "#### TheOnion (stop_words = 'english')"
   ]
  },
  {
   "cell_type": "code",
   "execution_count": 50,
   "metadata": {},
   "outputs": [
    {
     "name": "stdout",
     "output_type": "stream",
     "text": [
      "Number of Unique Words: 4289\n"
     ]
    },
    {
     "data": {
      "text/plain": [
       "new       80\n",
       "man       60\n",
       "just      55\n",
       "trump     45\n",
       "said      45\n",
       "report    33\n",
       "like      31\n",
       "year      30\n",
       "old       25\n",
       "time      24\n",
       "day       23\n",
       "woman     22\n",
       "people    20\n",
       "know      20\n",
       "dtype: int64"
      ]
     },
     "execution_count": 50,
     "metadata": {},
     "output_type": "execute_result"
    }
   ],
   "source": [
    "cvec = CountVectorizer(stop_words='english')\n",
    "# Fit our CountVectorizer on the training data and transform training data.\n",
    "onion_cvec_stop = pd.DataFrame(cvec.fit_transform(df_onion['title']).todense(),\n",
    "                          columns = cvec.get_feature_names())\n",
    "print(f'Number of Unique Words: {onion_cvec_stop.shape[1]}')\n",
    "onion_cvec_stop.sum()[onion_cvec_stop.sum() >= 20].sort_values(ascending = False)"
   ]
  },
  {
   "cell_type": "code",
   "execution_count": 51,
   "metadata": {},
   "outputs": [
    {
     "data": {
      "image/png": "[encoded data removed]",
      "text/plain": [
       "<Figure size 1440x864 with 1 Axes>"
      ]
     },
     "metadata": {},
     "output_type": "display_data"
    }
   ],
   "source": [
    "onion_cvec_stop_top = onion_cvec_stop.sum().sort_values(ascending = True).tail(15)\n",
    "onion_cvec_stop_top.plot(kind = 'barh',figsize=(20,12),color = '#006b3a',fontsize=20)\n",
    "plt.title('Most Frequently Occuring Words in Posts on r/TheOnion',size = 30)\n",
    "plt.xlabel('Counts', size = 25)\n",
    "plt.ylabel('Words', size = 25);"
   ]
  },
  {
   "cell_type": "markdown",
   "metadata": {},
   "source": [
    "#### TheOnion (bigrams, stop_words = 'english')"
   ]
  },
  {
   "cell_type": "code",
   "execution_count": 65,
   "metadata": {},
   "outputs": [
    {
     "data": {
      "text/plain": [
       "Text(0, 0.5, 'Words')"
      ]
     },
     "execution_count": 65,
     "metadata": {},
     "output_type": "execute_result"
    },
    {
     "data": {
      "image/png": "[encoded data removed]",
      "text/plain": [
       "<Figure size 1440x864 with 1 Axes>"
      ]
     },
     "metadata": {},
     "output_type": "display_data"
    }
   ],
   "source": [
    "onion_bigram_counts = pd.DataFrame(term_counts(df = df_onion,n_gram=(2,2),stop_list = 'english'), columns=[\"count\"])\n",
    "\n",
    "onion_top_bigrams = onion_bigram_counts.head(15).sort_values(by = 'count',ascending = True)\n",
    "onion_top_bigrams.plot(kind = 'barh',figsize=(20,12),color = '#006b3a',fontsize=20)\n",
    "plt.title('Most Frequently Occuring Bigrams in Posts on r/TheOnion',size = 30)\n",
    "plt.xlabel('Counts', size = 25)\n",
    "plt.ylabel('Words', size = 25)\n",
    "#plt.figtext(20,20,s = f'Number of Unique Bigrams: {len(onion_top_bigrams)}');"
   ]
  },
  {
   "cell_type": "code",
   "execution_count": 55,
   "metadata": {
    "scrolled": false
   },
   "outputs": [
    {
     "name": "stdout",
     "output_type": "stream",
     "text": [
      "Number of Unique Bigrams: 6824\n"
     ]
    },
    {
     "data": {
      "text/plain": [
       "year old             14\n",
       "super bowl           10\n",
       "study finds           9\n",
       "releases new          8\n",
       "white house           7\n",
       "bernie sanders        7\n",
       "area man              7\n",
       "ocasio cortez         6\n",
       "new york              6\n",
       "alexandria ocasio     6\n",
       "way watch             5\n",
       "things know           5\n",
       "roger stone           5\n",
       "pope francis          5\n",
       "introduces new        5\n",
       "change way            5\n",
       "dtype: int64"
      ]
     },
     "execution_count": 55,
     "metadata": {},
     "output_type": "execute_result"
    }
   ],
   "source": [
    "cvec = CountVectorizer(stop_words='english',ngram_range=(2,2))\n",
    "# Fit our CountVectorizer on the training data and transform training data.\n",
    "onion_bigram_cvec_stop = pd.DataFrame(cvec.fit_transform(df_onion['title']).todense(),\n",
    "                          columns = cvec.get_feature_names())\n",
    "print(f'Number of Unique Bigrams: {onion_bigram_cvec_stop.shape[1]}')\n",
    "onion_bigram_cvec_stop.sum()[onion_bigram_cvec_stop.sum() >= 5].sort_values(ascending = False)"
   ]
  },
  {
   "cell_type": "code",
   "execution_count": 56,
   "metadata": {},
   "outputs": [
    {
     "data": {
      "image/png": "[encoded data removed]",
      "text/plain": [
       "<Figure size 1440x864 with 1 Axes>"
      ]
     },
     "metadata": {},
     "output_type": "display_data"
    }
   ],
   "source": [
    "onion_bigram_cvec_stop_top = onion_bigram_cvec_stop.sum().sort_values(ascending = True).tail(15)\n",
    "onion_bigram_cvec_stop_top.plot(kind = 'barh',figsize=(20,12),color = '#006b3a',fontsize=20)\n",
    "plt.title('Most Frequently Occuring Bigrams in Posts on r/TheOnion',size = 30)\n",
    "plt.xlabel('Counts', size = 25)\n",
    "plt.ylabel('Bigrams', size = 25);"
   ]
  },
  {
   "cell_type": "markdown",
   "metadata": {},
   "source": [
    "#### Conspiracy (no stop words)"
   ]
  },
  {
   "cell_type": "code",
   "execution_count": 57,
   "metadata": {},
   "outputs": [
    {
     "name": "stdout",
     "output_type": "stream",
     "text": [
      "Number of Unique Words: 4211\n"
     ]
    },
    {
     "data": {
      "text/plain": [
       "the           662\n",
       "to            342\n",
       "of            314\n",
       "and           255\n",
       "is            222\n",
       "in            199\n",
       "for           134\n",
       "on            119\n",
       "that          104\n",
       "with           97\n",
       "it             95\n",
       "was            84\n",
       "this           82\n",
       "are            81\n",
       "what           65\n",
       "by             62\n",
       "be             61\n",
       "from           60\n",
       "you            59\n",
       "about          59\n",
       "conspiracy     57\n",
       "all            51\n",
       "at             49\n",
       "why            47\n",
       "trump          47\n",
       "has            46\n",
       "as             46\n",
       "how            44\n",
       "he             43\n",
       "they           43\n",
       "people         42\n",
       "an             41\n",
       "biden          38\n",
       "have           38\n",
       "who            37\n",
       "we             37\n",
       "us             37\n",
       "not            34\n",
       "can            34\n",
       "more           31\n",
       "their          31\n",
       "or             31\n",
       "out            30\n",
       "like           30\n",
       "joe            30\n",
       "if             29\n",
       "think          29\n",
       "his            28\n",
       "up             28\n",
       "government     28\n",
       "just           28\n",
       "nipsey         28\n",
       "being          27\n",
       "world          27\n",
       "no             27\n",
       "new            26\n",
       "so             26\n",
       "media          25\n",
       "over           25\n",
       "dtype: int64"
      ]
     },
     "execution_count": 57,
     "metadata": {},
     "output_type": "execute_result"
    }
   ],
   "source": [
    "# Instantiate CountVectorizer\n",
    "cvec = CountVectorizer()\n",
    "# Fit CountVectorizer on the training data and transform training data.\n",
    "conspiracy_cvec = pd.DataFrame(cvec.fit_transform(df_conspiracy['title']).todense(),\n",
    "                          columns = cvec.get_feature_names())\n",
    "print(f'Number of Unique Words: {conspiracy_cvec.shape[1]}')\n",
    "conspiracy_cvec.sum()[conspiracy_cvec.sum() >= 25].sort_values(ascending = False)"
   ]
  },
  {
   "cell_type": "markdown",
   "metadata": {},
   "source": [
    "#### Conspiracy (bigram, no stop words)"
   ]
  },
  {
   "cell_type": "code",
   "execution_count": 58,
   "metadata": {},
   "outputs": [
    {
     "name": "stdout",
     "output_type": "stream",
     "text": [
      "Number of Unique Bigrams: 10579\n"
     ]
    },
    {
     "data": {
      "text/plain": [
       "of the            65\n",
       "in the            48\n",
       "to be             25\n",
       "on the            24\n",
       "joe biden         22\n",
       "to the            21\n",
       "is the            21\n",
       "this is           18\n",
       "from the          18\n",
       "that the          17\n",
       "for the           16\n",
       "nipsey hussle     16\n",
       "at the            14\n",
       "and the           13\n",
       "sandy hook        13\n",
       "why is            13\n",
       "has been          12\n",
       "the real          11\n",
       "with the          10\n",
       "the same          10\n",
       "the world         10\n",
       "donald trump      10\n",
       "you think         10\n",
       "julian assange     9\n",
       "the government     9\n",
       "the truth          9\n",
       "do you             9\n",
       "dtype: int64"
      ]
     },
     "execution_count": 58,
     "metadata": {},
     "output_type": "execute_result"
    }
   ],
   "source": [
    "# Instantiate CountVectorizer\n",
    "cvec = CountVectorizer(ngram_range=(2,2))\n",
    "# Fit CountVectorizer on the training data and transform training data.\n",
    "conspiracy_bigram_cvec = pd.DataFrame(cvec.fit_transform(df_conspiracy['title']).todense(),\n",
    "                          columns = cvec.get_feature_names())\n",
    "print(f'Number of Unique Bigrams: {conspiracy_bigram_cvec.shape[1]}')\n",
    "conspiracy_bigram_cvec.sum()[conspiracy_bigram_cvec.sum() >= 9].sort_values(ascending = False)"
   ]
  },
  {
   "cell_type": "markdown",
   "metadata": {},
   "source": [
    "#### Conspiracy (stop_words = 'english')"
   ]
  },
  {
   "cell_type": "code",
   "execution_count": 59,
   "metadata": {},
   "outputs": [
    {
     "name": "stdout",
     "output_type": "stream",
     "text": [
      "Number of Unique Words: 3994\n"
     ]
    },
    {
     "data": {
      "text/plain": [
       "conspiracy    57\n",
       "trump         47\n",
       "people        42\n",
       "biden         38\n",
       "like          30\n",
       "joe           30\n",
       "think         29\n",
       "nipsey        28\n",
       "just          28\n",
       "government    28\n",
       "world         27\n",
       "new           26\n",
       "media         25\n",
       "real          24\n",
       "amp           23\n",
       "years         23\n",
       "video         22\n",
       "america       21\n",
       "know          20\n",
       "dtype: int64"
      ]
     },
     "execution_count": 59,
     "metadata": {},
     "output_type": "execute_result"
    }
   ],
   "source": [
    "cvec = CountVectorizer(stop_words='english')\n",
    "# Fit our CountVectorizer on the training data and transform training data.\n",
    "conspiracy_cvec_stop = pd.DataFrame(cvec.fit_transform(df_conspiracy['title']).todense(),\n",
    "                          columns = cvec.get_feature_names())\n",
    "print(f'Number of Unique Words: {conspiracy_cvec_stop.shape[1]}')\n",
    "conspiracy_cvec_stop.sum()[conspiracy_cvec_stop.sum() >= 20].sort_values(ascending = False)"
   ]
  },
  {
   "cell_type": "code",
   "execution_count": 60,
   "metadata": {},
   "outputs": [
    {
     "data": {
      "image/png": "[encoded data removed]",
      "text/plain": [
       "<Figure size 1440x864 with 1 Axes>"
      ]
     },
     "metadata": {},
     "output_type": "display_data"
    }
   ],
   "source": [
    "conspiracy_cvec_stop_top = conspiracy_cvec_stop.sum().sort_values(ascending = True).tail(15)\n",
    "conspiracy_cvec_stop_top.plot(kind = 'barh',figsize=(20,12),color = '#e5862d',fontsize=20)\n",
    "plt.title('Most Frequently Occuring Words in Posts on r/Conspiracy',size = 30)\n",
    "plt.xlabel('Counts', size = 25)\n",
    "plt.ylabel('Words', size = 25);"
   ]
  },
  {
   "cell_type": "markdown",
   "metadata": {},
   "source": [
    "#### Conspiracy (bigrams, stop_words = 'english')"
   ]
  },
  {
   "cell_type": "code",
   "execution_count": 61,
   "metadata": {
    "scrolled": false
   },
   "outputs": [
    {
     "name": "stdout",
     "output_type": "stream",
     "text": [
      "Number of Unique Bigrams: 6824\n"
     ]
    },
    {
     "data": {
      "text/plain": [
       "joe biden              22\n",
       "nipsey hussle          16\n",
       "sandy hook             13\n",
       "donald trump           10\n",
       "julian assange          9\n",
       "conspiracy theories     7\n",
       "years ago               6\n",
       "year old                6\n",
       "rapper nipsey           6\n",
       "new zealand             6\n",
       "dr sebi                 6\n",
       "alex jones              6\n",
       "jussie smollett         5\n",
       "hussle death            5\n",
       "dtype: int64"
      ]
     },
     "execution_count": 61,
     "metadata": {},
     "output_type": "execute_result"
    }
   ],
   "source": [
    "# Instantiate CountVectorizer\n",
    "cvec = CountVectorizer(stop_words = 'english',ngram_range=(2,2))\n",
    "# Fit CountVectorizer on the training data and transform training data.\n",
    "conspiracy_bigram_cvec_stop = pd.DataFrame(cvec.fit_transform(df_conspiracy['title']).todense(),\n",
    "                          columns = cvec.get_feature_names())\n",
    "print(f'Number of Unique Bigrams: {conspiracy_bigram_cvec_stop.shape[1]}')\n",
    "conspiracy_bigram_cvec_stop.sum()[conspiracy_bigram_cvec_stop.sum() >= 5].sort_values(ascending = False)"
   ]
  },
  {
   "cell_type": "code",
   "execution_count": 62,
   "metadata": {},
   "outputs": [
    {
     "data": {
      "image/png": "[encoded data removed]",
      "text/plain": [
       "<Figure size 1440x864 with 1 Axes>"
      ]
     },
     "metadata": {},
     "output_type": "display_data"
    }
   ],
   "source": [
    "conspiracy_bigram_cvec_stop_top = conspiracy_bigram_cvec_stop.sum().sort_values(ascending = True).tail(15)\n",
    "conspiracy_bigram_cvec_stop_top.plot(kind = 'barh',figsize=(20,12),color = '#e5862d',fontsize=20)\n",
    "plt.title('Most Frequently Occuring Bigrams in Posts on r/Conspiracy',size = 30)\n",
    "plt.xlabel('Counts', size = 25)\n",
    "plt.ylabel('Bigrams', size = 25);"
   ]
  },
  {
   "cell_type": "code",
   "execution_count": 63,
   "metadata": {},
   "outputs": [],
   "source": [
    "# Find all common words in TheOnion and Conspiracy Posts\n",
    "common_words = []\n",
    "for i in list(onion_cvec_stop):\n",
    "    for j in list(conspiracy_cvec_stop):\n",
    "        if i == j:\n",
    "            common_words.append(i)"
   ]
  },
  {
   "cell_type": "code",
   "execution_count": 64,
   "metadata": {},
   "outputs": [
    {
     "data": {
      "text/plain": [
       "1447"
      ]
     },
     "execution_count": 64,
     "metadata": {},
     "output_type": "execute_result"
    }
   ],
   "source": [
    "len(common_words)"
   ]
  },
  {
   "cell_type": "markdown",
   "metadata": {},
   "source": [
    "### Create list of stop words common to both subreddits"
   ]
  },
  {
   "cell_type": "code",
   "execution_count": 66,
   "metadata": {},
   "outputs": [],
   "source": [
    "stop_english_common = text.ENGLISH_STOP_WORDS.union(common_words)"
   ]
  },
  {
   "cell_type": "code",
   "execution_count": 67,
   "metadata": {
    "scrolled": false
   },
   "outputs": [
    {
     "data": {
      "text/plain": [
       "conspiracy    57\n",
       "nipsey        28\n",
       "hussle        18\n",
       "assange       18\n",
       "fbi           14\n",
       "5g            14\n",
       "vaccine       13\n",
       "truth         13\n",
       "sandy         13\n",
       "theories      12\n",
       "propaganda    12\n",
       "reddit        11\n",
       "vaccines      10\n",
       "julian        10\n",
       "dtype: int64"
      ]
     },
     "execution_count": 67,
     "metadata": {},
     "output_type": "execute_result"
    }
   ],
   "source": [
    "cvec = CountVectorizer(stop_words=stop_english_common)\n",
    "# Fit our CountVectorizer on the training data and transform training data.\n",
    "conspiracy_cvec_stop_en_com = pd.DataFrame(cvec.fit_transform(df_conspiracy['title']).todense(),\n",
    "                          columns = cvec.get_feature_names())\n",
    "conspiracy_cvec_stop_en_com.sum()[conspiracy_cvec_stop_en_com.sum()>9].sort_values(ascending = False)"
   ]
  },
  {
   "cell_type": "code",
   "execution_count": 68,
   "metadata": {},
   "outputs": [
    {
     "data": {
      "text/plain": [
       "nation           18\n",
       "super            16\n",
       "work             13\n",
       "beautiful        12\n",
       "mom              12\n",
       "onion            10\n",
       "bowl             10\n",
       "teen             10\n",
       "announced        10\n",
       "week              9\n",
       "car               9\n",
       "ftw               9\n",
       "pope              9\n",
       "dad               8\n",
       "fans              7\n",
       "let               7\n",
       "heartbreaking     7\n",
       "ep                7\n",
       "players           7\n",
       "roger             7\n",
       "rowling           7\n",
       "space             7\n",
       "awesome           7\n",
       "introduces        7\n",
       "fan               6\n",
       "francis           6\n",
       "heartwarming      6\n",
       "grandmother       6\n",
       "happy             6\n",
       "drive             6\n",
       "bezos             6\n",
       "issues            6\n",
       "unveils           6\n",
       "tom               6\n",
       "owner             6\n",
       "stone             6\n",
       "horrified         5\n",
       "sleep             5\n",
       "announce          5\n",
       "apartment         5\n",
       "basketball        5\n",
       "students          5\n",
       "store             5\n",
       "bottle            5\n",
       "smoking           5\n",
       "singer            5\n",
       "hour              5\n",
       "quit              5\n",
       "personal          5\n",
       "oscars            5\n",
       "okay              5\n",
       "normal            5\n",
       "mountain          5\n",
       "hard              5\n",
       "hare              5\n",
       "iowa              5\n",
       "absolutely        5\n",
       "dtype: int64"
      ]
     },
     "execution_count": 68,
     "metadata": {},
     "output_type": "execute_result"
    }
   ],
   "source": [
    "cvec = CountVectorizer(stop_words=stop_english_common)\n",
    "# Fit our CountVectorizer on the training data and transform training data.\n",
    "onion_cvec_stop_en_com = pd.DataFrame(cvec.fit_transform(df_onion['title']).todense(),\n",
    "                          columns = cvec.get_feature_names())\n",
    "onion_cvec_stop_en_com.sum()[onion_cvec_stop_en_com.sum()>=5].sort_values(ascending = False)"
   ]
  },
  {
   "cell_type": "markdown",
   "metadata": {},
   "source": [
    "## Combine DataFrames"
   ]
  },
  {
   "cell_type": "code",
   "execution_count": 69,
   "metadata": {
    "scrolled": true
   },
   "outputs": [],
   "source": [
    "df_combined = df_onion.append(df_conspiracy)"
   ]
  },
  {
   "cell_type": "code",
   "execution_count": 70,
   "metadata": {},
   "outputs": [],
   "source": [
    "df_combined['subreddit'] = df_combined['subreddit'].map({'TheOnion': 1, 'conspiracy': 0})"
   ]
  },
  {
   "cell_type": "code",
   "execution_count": 71,
   "metadata": {},
   "outputs": [],
   "source": [
    "df_combined.reset_index(inplace = True,drop = True)"
   ]
  },
  {
   "cell_type": "markdown",
   "metadata": {},
   "source": [
    "### Export Combined Dataframe to CSV"
   ]
  },
  {
   "cell_type": "code",
   "execution_count": 72,
   "metadata": {},
   "outputs": [],
   "source": [
    "df_combined.to_csv('./combined_data2.csv')"
   ]
  },
  {
   "cell_type": "markdown",
   "metadata": {},
   "source": [
    "# Modeling"
   ]
  },
  {
   "cell_type": "code",
   "execution_count": 73,
   "metadata": {},
   "outputs": [
    {
     "name": "stderr",
     "output_type": "stream",
     "text": [
      "C:\\Users\\noaha\\Anaconda3\\envs\\dsi\\lib\\site-packages\\sklearn\\ensemble\\weight_boosting.py:29: DeprecationWarning: numpy.core.umath_tests is an internal NumPy module and should not be imported. It will be removed in a future NumPy release.\n",
      "  from numpy.core.umath_tests import inner1d\n"
     ]
    }
   ],
   "source": [
    "from sklearn.linear_model import LogisticRegression\n",
    "from sklearn.model_selection import GridSearchCV, train_test_split\n",
    "from sklearn.pipeline import Pipeline\n",
    "from sklearn.neighbors import KNeighborsClassifier\n",
    "from sklearn.naive_bayes import MultinomialNB\n",
    "from sklearn.metrics import accuracy_score,recall_score,precision_score, confusion_matrix\n",
    "from sklearn.tree import DecisionTreeClassifier\n",
    "from sklearn.ensemble import RandomForestClassifier,AdaBoostClassifier"
   ]
  },
  {
   "cell_type": "markdown",
   "metadata": {},
   "source": [
    "## Create X (features) & y (target) datasets"
   ]
  },
  {
   "cell_type": "code",
   "execution_count": 74,
   "metadata": {},
   "outputs": [],
   "source": [
    "X = df_combined['title']\n",
    "y = df_combined['subreddit']"
   ]
  },
  {
   "cell_type": "markdown",
   "metadata": {},
   "source": [
    "## Baseline Accuracy"
   ]
  },
  {
   "cell_type": "code",
   "execution_count": 75,
   "metadata": {},
   "outputs": [
    {
     "data": {
      "text/plain": [
       "1    0.521693\n",
       "0    0.478307\n",
       "Name: subreddit, dtype: float64"
      ]
     },
     "execution_count": 75,
     "metadata": {},
     "output_type": "execute_result"
    }
   ],
   "source": [
    "y.value_counts(normalize = True)"
   ]
  },
  {
   "cell_type": "markdown",
   "metadata": {},
   "source": [
    "## Function for Evaluating Vectorizers & Classifiers"
   ]
  },
  {
   "cell_type": "code",
   "execution_count": 76,
   "metadata": {
    "code_folding": []
   },
   "outputs": [],
   "source": [
    "vectorizer = [CountVectorizer(), TfidfVectorizer()]\n",
    "classifier = [KNeighborsClassifier(),LogisticRegression(), MultinomialNB(), RandomForestClassifier()]\n",
    "vec_param = { 'CountVectorizer': { \n",
    "                                    'CountVectorizer__max_features': [None,1200,2000,2250,3500],\n",
    "                                    'CountVectorizer__min_df': [2,3,4],\n",
    "                                    'CountVectorizer__max_df': [.3,.35,.4,.5],\n",
    "                                    'CountVectorizer__ngram_range': [(1,1),(1,2)],\n",
    "                                    'CountVectorizer__stop_words': [None,'english']\n",
    "                                    },\n",
    "               'TfidfVectorizer': {\n",
    "                                    'TfidfVectorizer__max_features': [None,1200,2000,2250,3500],\n",
    "                                    'TfidfVectorizer__min_df': [2,3,4],\n",
    "                                    'TfidfVectorizer__max_df': [.3,.35,.4,.5],\n",
    "                                    'TfidfVectorizer__ngram_range': [(1,1),(1,2)],\n",
    "                                    'TfidfVectorizer__stop_words': [None,'english']  \n",
    "                                    }\n",
    "              }\n",
    "clasf_param = { 'KNeighborsClassifier': {'KNeighborsClassifier__n_neighbors':[3,5,7]},\n",
    "                'LogisticRegression': {'LogisticRegression__penalty': ['l1','l2']},\n",
    "                'MultinomialNB': {},\n",
    "                'RandomForestClassifier': {'RandomForestClassifier__max_depth': [90, 100, 110],\n",
    "                                           #'RandomForestClassifier__max_features': [None, .5, .75, 'auto'],\n",
    "                                           'RandomForestClassifier__n_estimators': [100, 200, 300]}\n",
    "               }\n",
    "vect_names = ['CountVectorizer','TfidfVectorizer']\n",
    "clasf_names = ['KNeighborsClassifier','LogisticRegression','MultinomialNB','RandomForestClassifier']"
   ]
  },
  {
   "cell_type": "code",
   "execution_count": 77,
   "metadata": {
    "code_folding": []
   },
   "outputs": [],
   "source": [
    "def grid_pipe(X,y,vectorizers,classifiers,vects_names, clasfs_names, vec_params, clasf_params):\n",
    "    t0 = time.time()\n",
    "    score_list = []\n",
    "    # Train Test Split Data\n",
    "    X_train, X_test, y_train, y_test = train_test_split(X,y,stratify=y,random_state=42)\n",
    "    \n",
    "    for n_vec,vec in enumerate(vectorizers):\n",
    "        for n_clasf,clasf in enumerate(classifiers):\n",
    "            t1 = time.time()\n",
    "            # Empty Dictionary used to create dataframe of model performance\n",
    "            df_dict = {}\n",
    "            \n",
    "            # Create dictionary of Pipeline Params for Vectorizer-Classifier Combination\n",
    "            pipe_params = {}\n",
    "            vec_dict = vec_params[vects_names[n_vec]]\n",
    "            clasf_dict = clasf_params[clasfs_names[n_clasf]]\n",
    "            pipe_params.update(vec_dict)\n",
    "            pipe_params.update(clasf_dict)\n",
    "            \n",
    "            # Instantiate Pipeline for Vectorizer-Classifier Combination\n",
    "            pipe = Pipeline([\n",
    "                (f'{vects_names[n_vec]}', vec),\n",
    "                (f'{clasfs_names[n_clasf]}', clasf)\n",
    "            ])\n",
    "            \n",
    "            # Run GridSearchCV to determine best params for Vectorizer-Classifier Combination\n",
    "            gs = GridSearchCV(pipe, param_grid=pipe_params, cv=3, n_jobs = -1,verbose = 1)\n",
    "            gs.fit(X_train,y_train)\n",
    "            \n",
    "            best_estimator = gs.best_estimator_\n",
    "#             print(f'Best Estimator: {best_estimator}')\n",
    "            print(f'Vectorizer: {vects_names[n_vec]}, Classifier: {clasfs_names[n_clasf]}')\n",
    "            print(f'Best Params: {gs.best_params_}')\n",
    "            print(f'Best Score: {gs.best_score_}')\n",
    "            print(f'\\n')\n",
    "            \n",
    "            # Fit using Best Estimator\n",
    "            best_estimator.fit(X_train, y_train)\n",
    "            \n",
    "            # Make predictions using Best Estimator\n",
    "            pred_train = best_estimator.predict(X_train)\n",
    "            pred_test  = best_estimator.predict(X_test)\n",
    "            \n",
    "            # fit vectorizer\n",
    "#             vec.fit(X_train)\n",
    "            \n",
    "            # transform data through fit vectorizer\n",
    "#             X_train_vec = vec.transform(X_train)\n",
    "#             X_test_vec  = vec.transform(X_test)\n",
    "            \n",
    "            # fit classifier\n",
    "#             clasf.fit(X_train_vec,y_train)\n",
    "            \n",
    "#             pred_train = clasf.predict(X_train_vec)\n",
    "#             pred_test  = clasf.predict(X_test_vec)\n",
    "            \n",
    "            # create confusion matrices for Train and Test\n",
    "            tn_train,fp_train,fn_train,tp_train  = confusion_matrix(y_train,pred_train).ravel()\n",
    "            tn_test,fp_test,fn_test,tp_test  = confusion_matrix(y_test,pred_test).ravel()\n",
    "            \n",
    "            # Name of Vectorizer and Classifier\n",
    "            df_dict['model_vectorizer']  = vects_names[n_vec]\n",
    "            df_dict['model_classifier']  = clasfs_names[n_clasf]\n",
    "            df_dict['model_best_params'] = gs.best_params_\n",
    "            \n",
    "            # Calculate Accuracy of Train and Test Predictions\n",
    "            df_dict['train_accuracy'] = accuracy_score(y_train,pred_train)\n",
    "            df_dict['test_accuracy']  = accuracy_score(y_test,pred_test)\n",
    "            \n",
    "            # Calculate Sensitivity of Train and Test Predicitons\n",
    "            df_dict['train_sensitivity'] = recall_score(y_train,pred_train)\n",
    "            df_dict['test_sensitivity']  = recall_score(y_test,pred_test)\n",
    "            \n",
    "            # Calculate Specificity of Train and Test Predicitons\n",
    "            df_dict['train_specificity'] = (tn_train/(tn_train+fp_train))\n",
    "            df_dict['test_specificity']  = (tn_test/(tn_test+fp_test))\n",
    "            \n",
    "            # Calculate Precision of Train and Test Predicitons\n",
    "            df_dict['train_precision'] = precision_score(y_train,pred_train)\n",
    "            df_dict['test_precision']  = precision_score(y_test,pred_test)\n",
    "            \n",
    "            score_list.append(df_dict)\n",
    "            t2 = time.time()\n",
    "            print(f'Run Time for {vects_names[n_vec]} & {clasfs_names[n_clasf]}: {t2-t1}\\n')\n",
    "    t3 = time.time()\n",
    "    print(f'Total Run Time: {t3-t0}')\n",
    "    return(pd.DataFrame(data = score_list))"
   ]
  },
  {
   "cell_type": "code",
   "execution_count": 78,
   "metadata": {
    "code_folding": [
     0
    ],
    "scrolled": false
   },
   "outputs": [
    {
     "name": "stdout",
     "output_type": "stream",
     "text": [
      "Fitting 3 folds for each of 720 candidates, totalling 2160 fits\n"
     ]
    },
    {
     "name": "stderr",
     "output_type": "stream",
     "text": [
      "[Parallel(n_jobs=-1)]: Done  42 tasks      | elapsed:   22.6s\n",
      "[Parallel(n_jobs=-1)]: Done 192 tasks      | elapsed:   38.0s\n",
      "[Parallel(n_jobs=-1)]: Done 442 tasks      | elapsed:   59.4s\n",
      "[Parallel(n_jobs=-1)]: Done 792 tasks      | elapsed:  1.5min\n",
      "[Parallel(n_jobs=-1)]: Done 1242 tasks      | elapsed:  2.1min\n",
      "[Parallel(n_jobs=-1)]: Done 1792 tasks      | elapsed:  3.0min\n",
      "[Parallel(n_jobs=-1)]: Done 2160 out of 2160 | elapsed:  3.5min finished\n"
     ]
    },
    {
     "name": "stdout",
     "output_type": "stream",
     "text": [
      "Vectorizer: CountVectorizer, Classifier: KNeighborsClassifier\n",
      "Best Params: {'CountVectorizer__max_df': 0.3, 'CountVectorizer__max_features': None, 'CountVectorizer__min_df': 4, 'CountVectorizer__ngram_range': (1, 2), 'CountVectorizer__stop_words': 'english', 'KNeighborsClassifier__n_neighbors': 5}\n",
      "Best Score: 0.5935714285714285\n",
      "\n",
      "\n",
      "Run Time for CountVectorizer & KNeighborsClassifier: 212.6096315383911\n",
      "\n",
      "Fitting 3 folds for each of 480 candidates, totalling 1440 fits\n"
     ]
    },
    {
     "name": "stderr",
     "output_type": "stream",
     "text": [
      "[Parallel(n_jobs=-1)]: Done  42 tasks      | elapsed:   10.5s\n",
      "[Parallel(n_jobs=-1)]: Done 192 tasks      | elapsed:   22.7s\n",
      "[Parallel(n_jobs=-1)]: Done 442 tasks      | elapsed:   40.0s\n",
      "[Parallel(n_jobs=-1)]: Done 792 tasks      | elapsed:  1.1min\n",
      "[Parallel(n_jobs=-1)]: Done 1242 tasks      | elapsed:  1.5min\n",
      "[Parallel(n_jobs=-1)]: Done 1440 out of 1440 | elapsed:  1.8min finished\n"
     ]
    },
    {
     "name": "stdout",
     "output_type": "stream",
     "text": [
      "Vectorizer: CountVectorizer, Classifier: LogisticRegression\n",
      "Best Params: {'CountVectorizer__max_df': 0.35, 'CountVectorizer__max_features': None, 'CountVectorizer__min_df': 2, 'CountVectorizer__ngram_range': (1, 2), 'CountVectorizer__stop_words': None, 'LogisticRegression__penalty': 'l2'}\n",
      "Best Score: 0.7878571428571428\n",
      "\n",
      "\n",
      "Run Time for CountVectorizer & LogisticRegression: 107.08188796043396\n",
      "\n",
      "Fitting 3 folds for each of 240 candidates, totalling 720 fits\n"
     ]
    },
    {
     "name": "stderr",
     "output_type": "stream",
     "text": [
      "[Parallel(n_jobs=-1)]: Done  42 tasks      | elapsed:    9.9s\n",
      "[Parallel(n_jobs=-1)]: Done 192 tasks      | elapsed:   18.9s\n",
      "[Parallel(n_jobs=-1)]: Done 442 tasks      | elapsed:   33.8s\n",
      "[Parallel(n_jobs=-1)]: Done 720 out of 720 | elapsed:   50.5s finished\n"
     ]
    },
    {
     "name": "stdout",
     "output_type": "stream",
     "text": [
      "Vectorizer: CountVectorizer, Classifier: MultinomialNB\n",
      "Best Params: {'CountVectorizer__max_df': 0.35, 'CountVectorizer__max_features': None, 'CountVectorizer__min_df': 2, 'CountVectorizer__ngram_range': (1, 1), 'CountVectorizer__stop_words': None}\n",
      "Best Score: 0.7964285714285714\n",
      "\n",
      "\n",
      "Run Time for CountVectorizer & MultinomialNB: 51.33518695831299\n",
      "\n",
      "Fitting 3 folds for each of 2160 candidates, totalling 6480 fits\n"
     ]
    },
    {
     "name": "stderr",
     "output_type": "stream",
     "text": [
      "[Parallel(n_jobs=-1)]: Done  42 tasks      | elapsed:   39.3s\n",
      "[Parallel(n_jobs=-1)]: Done 192 tasks      | elapsed:  2.5min\n",
      "[Parallel(n_jobs=-1)]: Done 442 tasks      | elapsed:  5.4min\n",
      "[Parallel(n_jobs=-1)]: Done 792 tasks      | elapsed:  9.6min\n",
      "[Parallel(n_jobs=-1)]: Done 1242 tasks      | elapsed: 14.9min\n",
      "[Parallel(n_jobs=-1)]: Done 1792 tasks      | elapsed: 21.6min\n",
      "[Parallel(n_jobs=-1)]: Done 2442 tasks      | elapsed: 29.4min\n",
      "[Parallel(n_jobs=-1)]: Done 3192 tasks      | elapsed: 39.0min\n",
      "[Parallel(n_jobs=-1)]: Done 4042 tasks      | elapsed: 46.8min\n",
      "[Parallel(n_jobs=-1)]: Done 4992 tasks      | elapsed: 53.6min\n",
      "[Parallel(n_jobs=-1)]: Done 6042 tasks      | elapsed: 60.4min\n",
      "[Parallel(n_jobs=-1)]: Done 6480 out of 6480 | elapsed: 63.4min finished\n"
     ]
    },
    {
     "name": "stdout",
     "output_type": "stream",
     "text": [
      "Vectorizer: CountVectorizer, Classifier: RandomForestClassifier\n",
      "Best Params: {'CountVectorizer__max_df': 0.4, 'CountVectorizer__max_features': None, 'CountVectorizer__min_df': 2, 'CountVectorizer__ngram_range': (1, 2), 'CountVectorizer__stop_words': None, 'RandomForestClassifier__max_depth': 110, 'RandomForestClassifier__n_estimators': 100}\n",
      "Best Score: 0.7778571428571428\n",
      "\n",
      "\n",
      "Run Time for CountVectorizer & RandomForestClassifier: 3806.0263612270355\n",
      "\n",
      "Fitting 3 folds for each of 720 candidates, totalling 2160 fits\n"
     ]
    },
    {
     "name": "stderr",
     "output_type": "stream",
     "text": [
      "[Parallel(n_jobs=-1)]: Done  42 tasks      | elapsed:    9.7s\n",
      "[Parallel(n_jobs=-1)]: Done 192 tasks      | elapsed:   18.9s\n",
      "[Parallel(n_jobs=-1)]: Done 442 tasks      | elapsed:   31.7s\n",
      "[Parallel(n_jobs=-1)]: Done 792 tasks      | elapsed:   51.1s\n",
      "[Parallel(n_jobs=-1)]: Done 1242 tasks      | elapsed:  1.3min\n",
      "[Parallel(n_jobs=-1)]: Done 1792 tasks      | elapsed:  1.8min\n",
      "[Parallel(n_jobs=-1)]: Done 2160 out of 2160 | elapsed:  2.1min finished\n"
     ]
    },
    {
     "name": "stdout",
     "output_type": "stream",
     "text": [
      "Vectorizer: TfidfVectorizer, Classifier: KNeighborsClassifier\n",
      "Best Params: {'KNeighborsClassifier__n_neighbors': 5, 'TfidfVectorizer__max_df': 0.3, 'TfidfVectorizer__max_features': None, 'TfidfVectorizer__min_df': 4, 'TfidfVectorizer__ngram_range': (1, 2), 'TfidfVectorizer__stop_words': 'english'}\n",
      "Best Score: 0.64\n",
      "\n",
      "\n",
      "Run Time for TfidfVectorizer & KNeighborsClassifier: 127.82720518112183\n",
      "\n",
      "Fitting 3 folds for each of 480 candidates, totalling 1440 fits\n"
     ]
    },
    {
     "name": "stderr",
     "output_type": "stream",
     "text": [
      "[Parallel(n_jobs=-1)]: Done  42 tasks      | elapsed:    6.0s\n",
      "[Parallel(n_jobs=-1)]: Done 192 tasks      | elapsed:   12.2s\n",
      "[Parallel(n_jobs=-1)]: Done 442 tasks      | elapsed:   22.5s\n",
      "[Parallel(n_jobs=-1)]: Done 792 tasks      | elapsed:   37.1s\n",
      "[Parallel(n_jobs=-1)]: Done 1242 tasks      | elapsed:   55.6s\n",
      "[Parallel(n_jobs=-1)]: Done 1440 out of 1440 | elapsed:  1.1min finished\n"
     ]
    },
    {
     "name": "stdout",
     "output_type": "stream",
     "text": [
      "Vectorizer: TfidfVectorizer, Classifier: LogisticRegression\n",
      "Best Params: {'LogisticRegression__penalty': 'l2', 'TfidfVectorizer__max_df': 0.35, 'TfidfVectorizer__max_features': 2000, 'TfidfVectorizer__min_df': 2, 'TfidfVectorizer__ngram_range': (1, 2), 'TfidfVectorizer__stop_words': None}\n",
      "Best Score: 0.7821428571428571\n",
      "\n",
      "\n",
      "Run Time for TfidfVectorizer & LogisticRegression: 64.52485251426697\n",
      "\n",
      "Fitting 3 folds for each of 240 candidates, totalling 720 fits\n"
     ]
    },
    {
     "name": "stderr",
     "output_type": "stream",
     "text": [
      "[Parallel(n_jobs=-1)]: Done  42 tasks      | elapsed:    5.9s\n",
      "[Parallel(n_jobs=-1)]: Done 192 tasks      | elapsed:   12.4s\n",
      "[Parallel(n_jobs=-1)]: Done 442 tasks      | elapsed:   22.3s\n",
      "[Parallel(n_jobs=-1)]: Done 720 out of 720 | elapsed:   34.2s finished\n"
     ]
    },
    {
     "name": "stdout",
     "output_type": "stream",
     "text": [
      "Vectorizer: TfidfVectorizer, Classifier: MultinomialNB\n",
      "Best Params: {'TfidfVectorizer__max_df': 0.35, 'TfidfVectorizer__max_features': 2250, 'TfidfVectorizer__min_df': 2, 'TfidfVectorizer__ngram_range': (1, 2), 'TfidfVectorizer__stop_words': None}\n",
      "Best Score: 0.7942857142857143\n",
      "\n",
      "\n",
      "Run Time for TfidfVectorizer & MultinomialNB: 34.96168565750122\n",
      "\n",
      "Fitting 3 folds for each of 2160 candidates, totalling 6480 fits\n"
     ]
    },
    {
     "name": "stderr",
     "output_type": "stream",
     "text": [
      "[Parallel(n_jobs=-1)]: Done  42 tasks      | elapsed:   15.7s\n",
      "[Parallel(n_jobs=-1)]: Done 192 tasks      | elapsed:   54.5s\n",
      "[Parallel(n_jobs=-1)]: Done 442 tasks      | elapsed:  2.0min\n",
      "[Parallel(n_jobs=-1)]: Done 792 tasks      | elapsed:  3.6min\n",
      "[Parallel(n_jobs=-1)]: Done 1242 tasks      | elapsed:  7.1min\n",
      "[Parallel(n_jobs=-1)]: Done 1792 tasks      | elapsed: 15.5min\n",
      "[Parallel(n_jobs=-1)]: Done 2442 tasks      | elapsed: 24.0min\n",
      "[Parallel(n_jobs=-1)]: Done 3192 tasks      | elapsed: 30.5min\n",
      "[Parallel(n_jobs=-1)]: Done 4042 tasks      | elapsed: 42.9min\n",
      "[Parallel(n_jobs=-1)]: Done 4992 tasks      | elapsed: 52.0min\n",
      "[Parallel(n_jobs=-1)]: Done 6042 tasks      | elapsed: 66.1min\n",
      "[Parallel(n_jobs=-1)]: Done 6480 out of 6480 | elapsed: 73.8min finished\n"
     ]
    },
    {
     "name": "stdout",
     "output_type": "stream",
     "text": [
      "Vectorizer: TfidfVectorizer, Classifier: RandomForestClassifier\n",
      "Best Params: {'RandomForestClassifier__max_depth': 110, 'RandomForestClassifier__n_estimators': 200, 'TfidfVectorizer__max_df': 0.5, 'TfidfVectorizer__max_features': 2000, 'TfidfVectorizer__min_df': 4, 'TfidfVectorizer__ngram_range': (1, 2), 'TfidfVectorizer__stop_words': None}\n",
      "Best Score: 0.78\n",
      "\n",
      "\n",
      "Run Time for TfidfVectorizer & RandomForestClassifier: 4431.473654985428\n",
      "\n",
      "Total Run Time: 8835.86712050438\n"
     ]
    },
    {
     "data": {
      "text/html": [
       "<div>\n",
       "<style scoped>\n",
       "    .dataframe tbody tr th:only-of-type {\n",
       "        vertical-align: middle;\n",
       "    }\n",
       "\n",
       "    .dataframe tbody tr th {\n",
       "        vertical-align: top;\n",
       "    }\n",
       "\n",
       "    .dataframe thead th {\n",
       "        text-align: right;\n",
       "    }\n",
       "</style>\n",
       "<table border=\"1\" class=\"dataframe\">\n",
       "  <thead>\n",
       "    <tr style=\"text-align: right;\">\n",
       "      <th></th>\n",
       "      <th>model_best_params</th>\n",
       "      <th>model_classifier</th>\n",
       "      <th>model_vectorizer</th>\n",
       "      <th>test_accuracy</th>\n",
       "      <th>test_precision</th>\n",
       "      <th>test_sensitivity</th>\n",
       "      <th>test_specificity</th>\n",
       "      <th>train_accuracy</th>\n",
       "      <th>train_precision</th>\n",
       "      <th>train_sensitivity</th>\n",
       "      <th>train_specificity</th>\n",
       "    </tr>\n",
       "  </thead>\n",
       "  <tbody>\n",
       "    <tr>\n",
       "      <th>0</th>\n",
       "      <td>{'CountVectorizer__max_df': 0.3, 'CountVectori...</td>\n",
       "      <td>KNeighborsClassifier</td>\n",
       "      <td>CountVectorizer</td>\n",
       "      <td>0.623126</td>\n",
       "      <td>0.809091</td>\n",
       "      <td>0.364754</td>\n",
       "      <td>0.905830</td>\n",
       "      <td>0.735000</td>\n",
       "      <td>0.894505</td>\n",
       "      <td>0.557534</td>\n",
       "      <td>0.928358</td>\n",
       "    </tr>\n",
       "    <tr>\n",
       "      <th>1</th>\n",
       "      <td>{'CountVectorizer__max_df': 0.35, 'CountVector...</td>\n",
       "      <td>LogisticRegression</td>\n",
       "      <td>CountVectorizer</td>\n",
       "      <td>0.837259</td>\n",
       "      <td>0.850000</td>\n",
       "      <td>0.836066</td>\n",
       "      <td>0.838565</td>\n",
       "      <td>0.995714</td>\n",
       "      <td>0.991848</td>\n",
       "      <td>1.000000</td>\n",
       "      <td>0.991045</td>\n",
       "    </tr>\n",
       "    <tr>\n",
       "      <th>2</th>\n",
       "      <td>{'CountVectorizer__max_df': 0.35, 'CountVector...</td>\n",
       "      <td>MultinomialNB</td>\n",
       "      <td>CountVectorizer</td>\n",
       "      <td>0.835118</td>\n",
       "      <td>0.849372</td>\n",
       "      <td>0.831967</td>\n",
       "      <td>0.838565</td>\n",
       "      <td>0.942857</td>\n",
       "      <td>0.943989</td>\n",
       "      <td>0.946575</td>\n",
       "      <td>0.938806</td>\n",
       "    </tr>\n",
       "    <tr>\n",
       "      <th>3</th>\n",
       "      <td>{'CountVectorizer__max_df': 0.4, 'CountVectori...</td>\n",
       "      <td>RandomForestClassifier</td>\n",
       "      <td>CountVectorizer</td>\n",
       "      <td>0.783726</td>\n",
       "      <td>0.773946</td>\n",
       "      <td>0.827869</td>\n",
       "      <td>0.735426</td>\n",
       "      <td>0.985714</td>\n",
       "      <td>0.973333</td>\n",
       "      <td>1.000000</td>\n",
       "      <td>0.970149</td>\n",
       "    </tr>\n",
       "    <tr>\n",
       "      <th>4</th>\n",
       "      <td>{'KNeighborsClassifier__n_neighbors': 5, 'Tfid...</td>\n",
       "      <td>KNeighborsClassifier</td>\n",
       "      <td>TfidfVectorizer</td>\n",
       "      <td>0.646681</td>\n",
       "      <td>0.772414</td>\n",
       "      <td>0.459016</td>\n",
       "      <td>0.852018</td>\n",
       "      <td>0.754286</td>\n",
       "      <td>0.876953</td>\n",
       "      <td>0.615068</td>\n",
       "      <td>0.905970</td>\n",
       "    </tr>\n",
       "    <tr>\n",
       "      <th>5</th>\n",
       "      <td>{'LogisticRegression__penalty': 'l2', 'TfidfVe...</td>\n",
       "      <td>LogisticRegression</td>\n",
       "      <td>TfidfVectorizer</td>\n",
       "      <td>0.837259</td>\n",
       "      <td>0.820611</td>\n",
       "      <td>0.881148</td>\n",
       "      <td>0.789238</td>\n",
       "      <td>0.923571</td>\n",
       "      <td>0.902975</td>\n",
       "      <td>0.956164</td>\n",
       "      <td>0.888060</td>\n",
       "    </tr>\n",
       "    <tr>\n",
       "      <th>6</th>\n",
       "      <td>{'TfidfVectorizer__max_df': 0.35, 'TfidfVector...</td>\n",
       "      <td>MultinomialNB</td>\n",
       "      <td>TfidfVectorizer</td>\n",
       "      <td>0.820128</td>\n",
       "      <td>0.822581</td>\n",
       "      <td>0.836066</td>\n",
       "      <td>0.802691</td>\n",
       "      <td>0.945714</td>\n",
       "      <td>0.937166</td>\n",
       "      <td>0.960274</td>\n",
       "      <td>0.929851</td>\n",
       "    </tr>\n",
       "    <tr>\n",
       "      <th>7</th>\n",
       "      <td>{'RandomForestClassifier__max_depth': 110, 'Ra...</td>\n",
       "      <td>RandomForestClassifier</td>\n",
       "      <td>TfidfVectorizer</td>\n",
       "      <td>0.798715</td>\n",
       "      <td>0.815126</td>\n",
       "      <td>0.795082</td>\n",
       "      <td>0.802691</td>\n",
       "      <td>0.997143</td>\n",
       "      <td>1.000000</td>\n",
       "      <td>0.994521</td>\n",
       "      <td>1.000000</td>\n",
       "    </tr>\n",
       "  </tbody>\n",
       "</table>\n",
       "</div>"
      ],
      "text/plain": [
       "                                   model_best_params        model_classifier  \\\n",
       "0  {'CountVectorizer__max_df': 0.3, 'CountVectori...    KNeighborsClassifier   \n",
       "1  {'CountVectorizer__max_df': 0.35, 'CountVector...      LogisticRegression   \n",
       "2  {'CountVectorizer__max_df': 0.35, 'CountVector...           MultinomialNB   \n",
       "3  {'CountVectorizer__max_df': 0.4, 'CountVectori...  RandomForestClassifier   \n",
       "4  {'KNeighborsClassifier__n_neighbors': 5, 'Tfid...    KNeighborsClassifier   \n",
       "5  {'LogisticRegression__penalty': 'l2', 'TfidfVe...      LogisticRegression   \n",
       "6  {'TfidfVectorizer__max_df': 0.35, 'TfidfVector...           MultinomialNB   \n",
       "7  {'RandomForestClassifier__max_depth': 110, 'Ra...  RandomForestClassifier   \n",
       "\n",
       "  model_vectorizer  test_accuracy  test_precision  test_sensitivity  \\\n",
       "0  CountVectorizer       0.623126        0.809091          0.364754   \n",
       "1  CountVectorizer       0.837259        0.850000          0.836066   \n",
       "2  CountVectorizer       0.835118        0.849372          0.831967   \n",
       "3  CountVectorizer       0.783726        0.773946          0.827869   \n",
       "4  TfidfVectorizer       0.646681        0.772414          0.459016   \n",
       "5  TfidfVectorizer       0.837259        0.820611          0.881148   \n",
       "6  TfidfVectorizer       0.820128        0.822581          0.836066   \n",
       "7  TfidfVectorizer       0.798715        0.815126          0.795082   \n",
       "\n",
       "   test_specificity  train_accuracy  train_precision  train_sensitivity  \\\n",
       "0          0.905830        0.735000         0.894505           0.557534   \n",
       "1          0.838565        0.995714         0.991848           1.000000   \n",
       "2          0.838565        0.942857         0.943989           0.946575   \n",
       "3          0.735426        0.985714         0.973333           1.000000   \n",
       "4          0.852018        0.754286         0.876953           0.615068   \n",
       "5          0.789238        0.923571         0.902975           0.956164   \n",
       "6          0.802691        0.945714         0.937166           0.960274   \n",
       "7          0.802691        0.997143         1.000000           0.994521   \n",
       "\n",
       "   train_specificity  \n",
       "0           0.928358  \n",
       "1           0.991045  \n",
       "2           0.938806  \n",
       "3           0.970149  \n",
       "4           0.905970  \n",
       "5           0.888060  \n",
       "6           0.929851  \n",
       "7           1.000000  "
      ]
     },
     "execution_count": 78,
     "metadata": {},
     "output_type": "execute_result"
    }
   ],
   "source": [
    "model_df = grid_pipe(X = X,\n",
    "                     y = y,\n",
    "                     vectorizers  = vectorizer,\n",
    "                     classifiers  = classifier,\n",
    "                     vects_names  = vect_names,\n",
    "                     clasfs_names = clasf_names,\n",
    "                     vec_params   = vec_param,\n",
    "                     clasf_params = clasf_param)\n",
    "model_df"
   ]
  },
  {
   "cell_type": "markdown",
   "metadata": {},
   "source": [
    "## Pipeline & GridSearchCV"
   ]
  },
  {
   "cell_type": "markdown",
   "metadata": {},
   "source": [
    "### Train Test Split"
   ]
  },
  {
   "cell_type": "code",
   "execution_count": 79,
   "metadata": {},
   "outputs": [],
   "source": [
    "X_train, X_test, y_train, y_test = train_test_split(X,y,stratify=y,random_state=42)"
   ]
  },
  {
   "cell_type": "markdown",
   "metadata": {},
   "source": [
    "### Logistic Regression Pipelines"
   ]
  },
  {
   "cell_type": "markdown",
   "metadata": {},
   "source": [
    "#### CountVectorizer"
   ]
  },
  {
   "cell_type": "code",
   "execution_count": 80,
   "metadata": {},
   "outputs": [
    {
     "name": "stdout",
     "output_type": "stream",
     "text": [
      "Fitting 3 folds for each of 216 candidates, totalling 648 fits\n"
     ]
    },
    {
     "name": "stderr",
     "output_type": "stream",
     "text": [
      "[Parallel(n_jobs=2)]: Done  46 tasks      | elapsed:    8.5s\n",
      "[Parallel(n_jobs=2)]: Done 196 tasks      | elapsed:   23.2s\n",
      "[Parallel(n_jobs=2)]: Done 446 tasks      | elapsed:   46.1s\n",
      "[Parallel(n_jobs=2)]: Done 648 out of 648 | elapsed:  1.1min finished\n"
     ]
    },
    {
     "name": "stdout",
     "output_type": "stream",
     "text": [
      "Best Score: 0.7778571428571428\n",
      "Best Parameters: {'cvec__max_df': 0.33, 'cvec__max_features': 900, 'cvec__min_df': 3, 'cvec__ngram_range': (1, 1), 'cvec__stop_words': None, 'lr__penalty': 'l2'}\n",
      "Train Accuracy Score: 0.935\n",
      "Test Accuracy Score: 0.8137044967880086\n"
     ]
    },
    {
     "data": {
      "text/html": [
       "<div>\n",
       "<style scoped>\n",
       "    .dataframe tbody tr th:only-of-type {\n",
       "        vertical-align: middle;\n",
       "    }\n",
       "\n",
       "    .dataframe tbody tr th {\n",
       "        vertical-align: top;\n",
       "    }\n",
       "\n",
       "    .dataframe thead th {\n",
       "        text-align: right;\n",
       "    }\n",
       "</style>\n",
       "<table border=\"1\" class=\"dataframe\">\n",
       "  <thead>\n",
       "    <tr style=\"text-align: right;\">\n",
       "      <th></th>\n",
       "      <th>predicted conspiracy</th>\n",
       "      <th>predicted onion</th>\n",
       "    </tr>\n",
       "  </thead>\n",
       "  <tbody>\n",
       "    <tr>\n",
       "      <th>actual conspiracy</th>\n",
       "      <td>177</td>\n",
       "      <td>46</td>\n",
       "    </tr>\n",
       "    <tr>\n",
       "      <th>actual onion</th>\n",
       "      <td>41</td>\n",
       "      <td>203</td>\n",
       "    </tr>\n",
       "  </tbody>\n",
       "</table>\n",
       "</div>"
      ],
      "text/plain": [
       "                   predicted conspiracy  predicted onion\n",
       "actual conspiracy                   177               46\n",
       "actual onion                         41              203"
      ]
     },
     "execution_count": 80,
     "metadata": {},
     "output_type": "execute_result"
    }
   ],
   "source": [
    "pipe_cvec_lr = Pipeline([\n",
    "    ('cvec', CountVectorizer()),\n",
    "    ('lr', LogisticRegression())\n",
    "])\n",
    "\n",
    "pipe_params_cvec_lr = {\n",
    "    'cvec__max_features': [850,900,950],\n",
    "    'cvec__min_df': [2,3,4],\n",
    "    'cvec__max_df': [.3,.33,.5],\n",
    "    'cvec__ngram_range': [(1,1),(1,2)],\n",
    "    'cvec__stop_words': [None,'english'],\n",
    "    'lr__penalty': ['l1','l2']\n",
    "}\n",
    "\n",
    "gs = GridSearchCV(pipe_cvec_lr, param_grid=pipe_params_cvec_lr, cv=3,n_jobs = 2,verbose = 1)\n",
    "gs.fit(X_train,y_train)\n",
    "\n",
    "print(f'Best Score: {gs.best_score_}')\n",
    "print(f'Best Parameters: {gs.best_params_}')\n",
    "print(f'Train Accuracy Score: {gs.score(X_train,y_train)}')\n",
    "print(f'Test Accuracy Score: {gs.score(X_test,y_test)}')\n",
    "pd.DataFrame(confusion_matrix(y_test,gs.predict(X_test)),\n",
    "                              index = ['actual conspiracy', 'actual onion'],\n",
    "                              columns = ['predicted conspiracy', 'predicted onion'])"
   ]
  },
  {
   "cell_type": "markdown",
   "metadata": {},
   "source": [
    "#### TF-IDF Vectorizer"
   ]
  },
  {
   "cell_type": "code",
   "execution_count": 81,
   "metadata": {
    "scrolled": false
   },
   "outputs": [
    {
     "name": "stdout",
     "output_type": "stream",
     "text": [
      "Fitting 3 folds for each of 324 candidates, totalling 972 fits\n"
     ]
    },
    {
     "name": "stderr",
     "output_type": "stream",
     "text": [
      "[Parallel(n_jobs=2)]: Done  46 tasks      | elapsed:    8.1s\n",
      "[Parallel(n_jobs=2)]: Done 273 tasks      | elapsed:   18.9s\n",
      "[Parallel(n_jobs=2)]: Done 773 tasks      | elapsed:   36.0s\n",
      "[Parallel(n_jobs=2)]: Done 969 out of 972 | elapsed:   43.0s remaining:    0.0s\n",
      "[Parallel(n_jobs=2)]: Done 972 out of 972 | elapsed:   43.1s finished\n"
     ]
    },
    {
     "name": "stdout",
     "output_type": "stream",
     "text": [
      "Best Score: 0.7785714285714286\n",
      "Best Parameters: {'lr__penalty': 'l2', 'tvec__max_df': 0.31, 'tvec__max_features': 1100, 'tvec__min_df': 3, 'tvec__ngram_range': (1, 2), 'tvec__stop_words': None}\n",
      "Train Accuracy Score: 0.9035714285714286\n",
      "Test Accuracy Score: 0.8179871520342612\n"
     ]
    },
    {
     "data": {
      "text/html": [
       "<div>\n",
       "<style scoped>\n",
       "    .dataframe tbody tr th:only-of-type {\n",
       "        vertical-align: middle;\n",
       "    }\n",
       "\n",
       "    .dataframe tbody tr th {\n",
       "        vertical-align: top;\n",
       "    }\n",
       "\n",
       "    .dataframe thead th {\n",
       "        text-align: right;\n",
       "    }\n",
       "</style>\n",
       "<table border=\"1\" class=\"dataframe\">\n",
       "  <thead>\n",
       "    <tr style=\"text-align: right;\">\n",
       "      <th></th>\n",
       "      <th>predicted conspiracy</th>\n",
       "      <th>predicted onion</th>\n",
       "    </tr>\n",
       "  </thead>\n",
       "  <tbody>\n",
       "    <tr>\n",
       "      <th>actual conspiracy</th>\n",
       "      <td>178</td>\n",
       "      <td>45</td>\n",
       "    </tr>\n",
       "    <tr>\n",
       "      <th>actual onion</th>\n",
       "      <td>40</td>\n",
       "      <td>204</td>\n",
       "    </tr>\n",
       "  </tbody>\n",
       "</table>\n",
       "</div>"
      ],
      "text/plain": [
       "                   predicted conspiracy  predicted onion\n",
       "actual conspiracy                   178               45\n",
       "actual onion                         40              204"
      ]
     },
     "execution_count": 81,
     "metadata": {},
     "output_type": "execute_result"
    }
   ],
   "source": [
    "pipe_tvec_lr = Pipeline([\n",
    "    ('tvec', TfidfVectorizer()),\n",
    "    ('lr', LogisticRegression())\n",
    "])\n",
    "\n",
    "pipe_params_tvec_lr = {\n",
    "    'tvec__max_features': [900,1000,1100],\n",
    "    'tvec__min_df': [3,4,5],\n",
    "    'tvec__max_df': [.3,.31,.33],\n",
    "    'tvec__ngram_range': [(1,1),(1,2)],\n",
    "    'tvec__stop_words': [None, stop_english_common,'english'],\n",
    "    'lr__penalty': ['l1','l2']\n",
    "}\n",
    "\n",
    "gs = GridSearchCV(pipe_tvec_lr, param_grid=pipe_params_tvec_lr, cv=3, n_jobs = 2, verbose = 1)\n",
    "gs.fit(X_train,y_train)\n",
    "print(f'Best Score: {gs.best_score_}')\n",
    "print(f'Best Parameters: {gs.best_params_}')\n",
    "print(f'Train Accuracy Score: {gs.score(X_train,y_train)}')\n",
    "print(f'Test Accuracy Score: {gs.score(X_test,y_test)}')\n",
    "pd.DataFrame(confusion_matrix(y_test,gs.predict(X_test)),\n",
    "                              index = ['actual conspiracy', 'actual onion'],\n",
    "                              columns = ['predicted conspiracy', 'predicted onion'])"
   ]
  },
  {
   "cell_type": "markdown",
   "metadata": {},
   "source": [
    "### MultinomialNB"
   ]
  },
  {
   "cell_type": "markdown",
   "metadata": {},
   "source": [
    "#### CountVectorizer"
   ]
  },
  {
   "cell_type": "code",
   "execution_count": 82,
   "metadata": {},
   "outputs": [
    {
     "name": "stdout",
     "output_type": "stream",
     "text": [
      "Fitting 3 folds for each of 540 candidates, totalling 1620 fits\n"
     ]
    },
    {
     "name": "stderr",
     "output_type": "stream",
     "text": [
      "[Parallel(n_jobs=3)]: Done  50 tasks      | elapsed:    4.5s\n",
      "[Parallel(n_jobs=3)]: Done 350 tasks      | elapsed:   14.6s\n",
      "[Parallel(n_jobs=3)]: Done 850 tasks      | elapsed:   34.1s\n",
      "[Parallel(n_jobs=3)]: Done 1550 tasks      | elapsed:  1.0min\n"
     ]
    },
    {
     "name": "stdout",
     "output_type": "stream",
     "text": [
      "Best Score: 0.7964285714285714\n",
      "Best Parameters: {'cvec__max_df': 0.32, 'cvec__max_features': None, 'cvec__min_df': 2, 'cvec__ngram_range': (1, 1), 'cvec__stop_words': None}\n",
      "Train Accuracy Score: 0.9428571428571428\n",
      "Test Accuracy Score: 0.8351177730192719\n"
     ]
    },
    {
     "name": "stderr",
     "output_type": "stream",
     "text": [
      "[Parallel(n_jobs=3)]: Done 1620 out of 1620 | elapsed:  1.1min finished\n"
     ]
    },
    {
     "data": {
      "text/html": [
       "<div>\n",
       "<style scoped>\n",
       "    .dataframe tbody tr th:only-of-type {\n",
       "        vertical-align: middle;\n",
       "    }\n",
       "\n",
       "    .dataframe tbody tr th {\n",
       "        vertical-align: top;\n",
       "    }\n",
       "\n",
       "    .dataframe thead th {\n",
       "        text-align: right;\n",
       "    }\n",
       "</style>\n",
       "<table border=\"1\" class=\"dataframe\">\n",
       "  <thead>\n",
       "    <tr style=\"text-align: right;\">\n",
       "      <th></th>\n",
       "      <th>predicted conspiracy</th>\n",
       "      <th>predicted onion</th>\n",
       "    </tr>\n",
       "  </thead>\n",
       "  <tbody>\n",
       "    <tr>\n",
       "      <th>actual conspiracy</th>\n",
       "      <td>187</td>\n",
       "      <td>36</td>\n",
       "    </tr>\n",
       "    <tr>\n",
       "      <th>actual onion</th>\n",
       "      <td>41</td>\n",
       "      <td>203</td>\n",
       "    </tr>\n",
       "  </tbody>\n",
       "</table>\n",
       "</div>"
      ],
      "text/plain": [
       "                   predicted conspiracy  predicted onion\n",
       "actual conspiracy                   187               36\n",
       "actual onion                         41              203"
      ]
     },
     "execution_count": 82,
     "metadata": {},
     "output_type": "execute_result"
    }
   ],
   "source": [
    "pipe_cvec_mnb = Pipeline([\n",
    "    ('cvec', CountVectorizer()),\n",
    "    ('mnb', MultinomialNB())\n",
    "])\n",
    "\n",
    "pipe_params_cvec_mnb = {\n",
    "    'cvec__max_features': [None,1000,1100,1200,1300],\n",
    "    'cvec__min_df': [2,3,4],\n",
    "    'cvec__max_df': [.3,.32,.33,.34],\n",
    "    'cvec__ngram_range': [(1,1),(1,2),(1,3)],\n",
    "    'cvec__stop_words': [None, stop_english_common,'english']\n",
    "}\n",
    "\n",
    "gs = GridSearchCV(pipe_cvec_mnb, param_grid=pipe_params_cvec_mnb, cv=3, n_jobs = 3, verbose = 1)\n",
    "gs.fit(X_train,y_train)\n",
    "print(f'Best Score: {gs.best_score_}')\n",
    "print(f'Best Parameters: {gs.best_params_}')\n",
    "print(f'Train Accuracy Score: {gs.score(X_train,y_train)}')\n",
    "print(f'Test Accuracy Score: {gs.score(X_test,y_test)}')\n",
    "pd.DataFrame(confusion_matrix(y_test,gs.predict(X_test)),\n",
    "                              index = ['actual conspiracy', 'actual onion'],\n",
    "                              columns = ['predicted conspiracy', 'predicted onion'])"
   ]
  },
  {
   "cell_type": "markdown",
   "metadata": {},
   "source": [
    "#### TF-IDF Vectorizer"
   ]
  },
  {
   "cell_type": "code",
   "execution_count": 83,
   "metadata": {
    "code_folding": []
   },
   "outputs": [
    {
     "name": "stdout",
     "output_type": "stream",
     "text": [
      "Fitting 3 folds for each of 216 candidates, totalling 648 fits\n"
     ]
    },
    {
     "name": "stderr",
     "output_type": "stream",
     "text": [
      "[Parallel(n_jobs=3)]: Done  58 tasks      | elapsed:    4.6s\n",
      "[Parallel(n_jobs=3)]: Done 358 tasks      | elapsed:   14.2s\n",
      "[Parallel(n_jobs=3)]: Done 648 out of 648 | elapsed:   24.4s finished\n"
     ]
    },
    {
     "name": "stdout",
     "output_type": "stream",
     "text": [
      "Best Score: 0.7921428571428571\n",
      "Best Parameters: {'tvec__max_df': 0.32, 'tvec__max_features': 1500, 'tvec__min_df': 2, 'tvec__ngram_range': (1, 2), 'tvec__stop_words': None}\n",
      "Train Accuracy Score: 0.92\n",
      "Test Accuracy Score: 0.815845824411135\n"
     ]
    },
    {
     "data": {
      "text/html": [
       "<div>\n",
       "<style scoped>\n",
       "    .dataframe tbody tr th:only-of-type {\n",
       "        vertical-align: middle;\n",
       "    }\n",
       "\n",
       "    .dataframe tbody tr th {\n",
       "        vertical-align: top;\n",
       "    }\n",
       "\n",
       "    .dataframe thead th {\n",
       "        text-align: right;\n",
       "    }\n",
       "</style>\n",
       "<table border=\"1\" class=\"dataframe\">\n",
       "  <thead>\n",
       "    <tr style=\"text-align: right;\">\n",
       "      <th></th>\n",
       "      <th>predicted conspiracy</th>\n",
       "      <th>predicted onion</th>\n",
       "    </tr>\n",
       "  </thead>\n",
       "  <tbody>\n",
       "    <tr>\n",
       "      <th>actual conspiracy</th>\n",
       "      <td>175</td>\n",
       "      <td>48</td>\n",
       "    </tr>\n",
       "    <tr>\n",
       "      <th>actual onion</th>\n",
       "      <td>38</td>\n",
       "      <td>206</td>\n",
       "    </tr>\n",
       "  </tbody>\n",
       "</table>\n",
       "</div>"
      ],
      "text/plain": [
       "                   predicted conspiracy  predicted onion\n",
       "actual conspiracy                   175               48\n",
       "actual onion                         38              206"
      ]
     },
     "execution_count": 83,
     "metadata": {},
     "output_type": "execute_result"
    }
   ],
   "source": [
    "pipe_tvec_mnb = Pipeline([\n",
    "    ('tvec', TfidfVectorizer()),\n",
    "    ('mnb', MultinomialNB())\n",
    "])\n",
    "\n",
    "pipe_params_tvec_mnb = {\n",
    "    'tvec__max_features': [1300,1400,1500],\n",
    "    'tvec__min_df': [2,3,4],\n",
    "    'tvec__max_df': [.3,.31,.32,.33],\n",
    "    'tvec__ngram_range': [(1,1),(1,2)],\n",
    "    'tvec__stop_words': [None,stop_english_common,'english']\n",
    "}\n",
    "\n",
    "gs = GridSearchCV(pipe_tvec_mnb, param_grid=pipe_params_tvec_mnb, cv=3,n_jobs = 3,verbose = 1)\n",
    "gs.fit(X_train,y_train)\n",
    "print(f'Best Score: {gs.best_score_}')\n",
    "print(f'Best Parameters: {gs.best_params_}')\n",
    "print(f'Train Accuracy Score: {gs.score(X_train,y_train)}')\n",
    "print(f'Test Accuracy Score: {gs.score(X_test,y_test)}')\n",
    "pd.DataFrame(confusion_matrix(y_test,gs.predict(X_test)),\n",
    "                              index = ['actual conspiracy', 'actual onion'],\n",
    "                              columns = ['predicted conspiracy', 'predicted onion'])"
   ]
  },
  {
   "cell_type": "markdown",
   "metadata": {},
   "source": [
    "### Random Forest"
   ]
  },
  {
   "cell_type": "markdown",
   "metadata": {},
   "source": [
    "#### CountVectorizer"
   ]
  },
  {
   "cell_type": "code",
   "execution_count": 84,
   "metadata": {},
   "outputs": [
    {
     "name": "stdout",
     "output_type": "stream",
     "text": [
      "Fitting 3 folds for each of 972 candidates, totalling 2916 fits\n"
     ]
    },
    {
     "name": "stderr",
     "output_type": "stream",
     "text": [
      "[Parallel(n_jobs=-1)]: Done  42 tasks      | elapsed:  1.3min\n",
      "[Parallel(n_jobs=-1)]: Done 192 tasks      | elapsed:  4.8min\n",
      "[Parallel(n_jobs=-1)]: Done 442 tasks      | elapsed: 10.4min\n",
      "[Parallel(n_jobs=-1)]: Done 792 tasks      | elapsed: 18.3min\n",
      "[Parallel(n_jobs=-1)]: Done 1242 tasks      | elapsed: 28.1min\n",
      "[Parallel(n_jobs=-1)]: Done 1792 tasks      | elapsed: 40.7min\n",
      "[Parallel(n_jobs=-1)]: Done 2442 tasks      | elapsed: 55.1min\n",
      "[Parallel(n_jobs=-1)]: Done 2916 out of 2916 | elapsed: 65.4min finished\n"
     ]
    },
    {
     "name": "stdout",
     "output_type": "stream",
     "text": [
      "Best Score: 0.7664285714285715\n",
      "Best Parameters: {'cvec__max_df': 0.45, 'cvec__max_features': 2500, 'cvec__min_df': 5, 'cvec__ngram_range': (1, 1), 'cvec__stop_words': None, 'rf__max_depth': None, 'rf__n_estimators': 1350}\n",
      "Train Accuracy Score: 0.9921428571428571\n",
      "Test Accuracy Score: 0.7837259100642399\n"
     ]
    },
    {
     "data": {
      "text/html": [
       "<div>\n",
       "<style scoped>\n",
       "    .dataframe tbody tr th:only-of-type {\n",
       "        vertical-align: middle;\n",
       "    }\n",
       "\n",
       "    .dataframe tbody tr th {\n",
       "        vertical-align: top;\n",
       "    }\n",
       "\n",
       "    .dataframe thead th {\n",
       "        text-align: right;\n",
       "    }\n",
       "</style>\n",
       "<table border=\"1\" class=\"dataframe\">\n",
       "  <thead>\n",
       "    <tr style=\"text-align: right;\">\n",
       "      <th></th>\n",
       "      <th>predicted conspiracy</th>\n",
       "      <th>predicted onion</th>\n",
       "    </tr>\n",
       "  </thead>\n",
       "  <tbody>\n",
       "    <tr>\n",
       "      <th>actual conspiracy</th>\n",
       "      <td>183</td>\n",
       "      <td>40</td>\n",
       "    </tr>\n",
       "    <tr>\n",
       "      <th>actual onion</th>\n",
       "      <td>61</td>\n",
       "      <td>183</td>\n",
       "    </tr>\n",
       "  </tbody>\n",
       "</table>\n",
       "</div>"
      ],
      "text/plain": [
       "                   predicted conspiracy  predicted onion\n",
       "actual conspiracy                   183               40\n",
       "actual onion                         61              183"
      ]
     },
     "execution_count": 84,
     "metadata": {},
     "output_type": "execute_result"
    }
   ],
   "source": [
    "pipe_cvec_rf = Pipeline([\n",
    "    ('cvec', CountVectorizer()),\n",
    "    ('rf', RandomForestClassifier())\n",
    "])\n",
    "\n",
    "pipe_params_cvec_rf = {\n",
    "###### Count Vectorizer Params ######   \n",
    "    'cvec__max_features': [2500,3000,3500],\n",
    "    'cvec__min_df': [3,4,5],\n",
    "    'cvec__max_df': [.4,.45,.5],\n",
    "    'cvec__ngram_range': [(1,1),(1,2)],\n",
    "    'cvec__stop_words': [None,'english'],\n",
    "###### Randaom Forest Params ######\n",
    "    'rf__max_depth': [None,2,5],\n",
    "    #'rf__max_features': [None, .5, .75, 'auto'],\n",
    "    'rf__n_estimators': [1200, 1350, 1500]\n",
    "}\n",
    "\n",
    "gs = GridSearchCV(pipe_cvec_rf, param_grid=pipe_params_cvec_rf, cv=3,n_jobs=-1,verbose=1)\n",
    "gs.fit(X_train,y_train)\n",
    "print(f'Best Score: {gs.best_score_}')\n",
    "print(f'Best Parameters: {gs.best_params_}')\n",
    "print(f'Train Accuracy Score: {gs.score(X_train,y_train)}')\n",
    "print(f'Test Accuracy Score: {gs.score(X_test,y_test)}')\n",
    "pd.DataFrame(confusion_matrix(y_test,gs.predict(X_test)),\n",
    "                              index = ['actual conspiracy', 'actual onion'],\n",
    "                              columns = ['predicted conspiracy', 'predicted onion'])"
   ]
  },
  {
   "cell_type": "markdown",
   "metadata": {},
   "source": [
    "#### TF-IDF Vectorizer"
   ]
  },
  {
   "cell_type": "code",
   "execution_count": 85,
   "metadata": {
    "scrolled": false
   },
   "outputs": [
    {
     "name": "stdout",
     "output_type": "stream",
     "text": [
      "Fitting 3 folds for each of 192 candidates, totalling 576 fits\n"
     ]
    },
    {
     "name": "stderr",
     "output_type": "stream",
     "text": [
      "[Parallel(n_jobs=3)]: Done  44 tasks      | elapsed:   12.6s\n",
      "[Parallel(n_jobs=3)]: Done 194 tasks      | elapsed:   51.4s\n",
      "[Parallel(n_jobs=3)]: Done 444 tasks      | elapsed:  2.0min\n",
      "[Parallel(n_jobs=3)]: Done 576 out of 576 | elapsed:  2.9min finished\n"
     ]
    },
    {
     "name": "stdout",
     "output_type": "stream",
     "text": [
      "Best Score: 0.7464285714285714\n",
      "Best Parameters: {'rf__max_depth': 10, 'rf__n_estimators': 500, 'tvec__max_df': 0.98, 'tvec__max_features': 3300, 'tvec__min_df': 3, 'tvec__ngram_range': (1, 1), 'tvec__stop_words': None}\n",
      "Train Accuracy Score: 0.8307142857142857\n",
      "Test Accuracy Score: 0.7773019271948608\n"
     ]
    },
    {
     "data": {
      "text/html": [
       "<div>\n",
       "<style scoped>\n",
       "    .dataframe tbody tr th:only-of-type {\n",
       "        vertical-align: middle;\n",
       "    }\n",
       "\n",
       "    .dataframe tbody tr th {\n",
       "        vertical-align: top;\n",
       "    }\n",
       "\n",
       "    .dataframe thead th {\n",
       "        text-align: right;\n",
       "    }\n",
       "</style>\n",
       "<table border=\"1\" class=\"dataframe\">\n",
       "  <thead>\n",
       "    <tr style=\"text-align: right;\">\n",
       "      <th></th>\n",
       "      <th>predicted conspiracy</th>\n",
       "      <th>predicted onion</th>\n",
       "    </tr>\n",
       "  </thead>\n",
       "  <tbody>\n",
       "    <tr>\n",
       "      <th>actual conspiracy</th>\n",
       "      <td>150</td>\n",
       "      <td>73</td>\n",
       "    </tr>\n",
       "    <tr>\n",
       "      <th>actual onion</th>\n",
       "      <td>31</td>\n",
       "      <td>213</td>\n",
       "    </tr>\n",
       "  </tbody>\n",
       "</table>\n",
       "</div>"
      ],
      "text/plain": [
       "                   predicted conspiracy  predicted onion\n",
       "actual conspiracy                   150               73\n",
       "actual onion                         31              213"
      ]
     },
     "execution_count": 85,
     "metadata": {},
     "output_type": "execute_result"
    }
   ],
   "source": [
    "pipe_tvec_rf = Pipeline([\n",
    "    ('tvec', TfidfVectorizer()),\n",
    "    ('rf', RandomForestClassifier())\n",
    "])\n",
    "\n",
    "pipe_params_tvec_rf = {\n",
    "    'tvec__max_features': [3300,3750],\n",
    "    'tvec__min_df': [2,3],\n",
    "    'tvec__max_df': [.9,.98],\n",
    "    'tvec__ngram_range': [(1,1),(1,2),(2,2)],\n",
    "    'tvec__stop_words': [None,'english'],\n",
    "    'rf__max_depth': [5,10],\n",
    "    #'rf__max_features': [None, .5, .75, 'auto'],\n",
    "    'rf__n_estimators': [300,500]\n",
    "}\n",
    "\n",
    "gs = GridSearchCV(pipe_tvec_rf, param_grid=pipe_params_tvec_rf, cv=3,verbose = 1, n_jobs=3)\n",
    "gs.fit(X_train,y_train)\n",
    "print(f'Best Score: {gs.best_score_}')\n",
    "print(f'Best Parameters: {gs.best_params_}')\n",
    "\n",
    "print(f'Train Accuracy Score: {gs.score(X_train,y_train)}')\n",
    "print(f'Test Accuracy Score: {gs.score(X_test,y_test)}')\n",
    "pd.DataFrame(confusion_matrix(y_test,gs.predict(X_test)),\n",
    "                              index = ['actual conspiracy', 'actual onion'],\n",
    "                              columns = ['predicted conspiracy', 'predicted onion'])"
   ]
  },
  {
   "cell_type": "markdown",
   "metadata": {},
   "source": [
    "## Evaluation & Interpretation"
   ]
  },
  {
   "cell_type": "markdown",
   "metadata": {},
   "source": [
    "Out of all my models, the one that seems to have the highest accuracy in predicting the classification of posts based on their titles is the TF-IDF Vectorizer with Multinomial Naive Bayes Classifier.\n",
    "\n",
    "The parameters for TD-IDF were:\n",
    "- max_df: 0.31\n",
    "- max_features: 1400\n",
    "- min_df: 2\n",
    "- ngram_range: (1,1)\n",
    "- stop_words: None\n",
    "\n",
    "This resulted in a training set accuracy score of 0.9466950959488273,\n",
    "and a testing set accuracy score of 0.8361702127659575."
   ]
  },
  {
   "cell_type": "code",
   "execution_count": 86,
   "metadata": {},
   "outputs": [
    {
     "name": "stdout",
     "output_type": "stream",
     "text": [
      "Train Accuracy Score: 0.9228571428571428\n",
      "Test Accuracy Score: 0.8222698072805139\n",
      "Train Sensitivity Score: 0.947945205479452\n",
      "Test Sensitivity Score: 0.8565573770491803\n",
      "Train Specificity Score: 0.8955223880597015\n",
      "Test Specificity Score: 0.7847533632286996\n",
      "Train Precision Score: 0.9081364829396326\n",
      "Test Precision Score: 0.8132295719844358\n"
     ]
    },
    {
     "data": {
      "text/html": [
       "<div>\n",
       "<style scoped>\n",
       "    .dataframe tbody tr th:only-of-type {\n",
       "        vertical-align: middle;\n",
       "    }\n",
       "\n",
       "    .dataframe tbody tr th {\n",
       "        vertical-align: top;\n",
       "    }\n",
       "\n",
       "    .dataframe thead th {\n",
       "        text-align: right;\n",
       "    }\n",
       "</style>\n",
       "<table border=\"1\" class=\"dataframe\">\n",
       "  <thead>\n",
       "    <tr style=\"text-align: right;\">\n",
       "      <th></th>\n",
       "      <th>predicted conspiracy</th>\n",
       "      <th>predicted onion</th>\n",
       "    </tr>\n",
       "  </thead>\n",
       "  <tbody>\n",
       "    <tr>\n",
       "      <th>actual conspiracy</th>\n",
       "      <td>175</td>\n",
       "      <td>48</td>\n",
       "    </tr>\n",
       "    <tr>\n",
       "      <th>actual onion</th>\n",
       "      <td>35</td>\n",
       "      <td>209</td>\n",
       "    </tr>\n",
       "  </tbody>\n",
       "</table>\n",
       "</div>"
      ],
      "text/plain": [
       "                   predicted conspiracy  predicted onion\n",
       "actual conspiracy                   175               48\n",
       "actual onion                         35              209"
      ]
     },
     "execution_count": 86,
     "metadata": {},
     "output_type": "execute_result"
    }
   ],
   "source": [
    "tvec = TfidfVectorizer(max_df=0.31,max_features=1400,min_df=2,stop_words=None,ngram_range=(1,1))\n",
    "tvec.fit(X_train)\n",
    "X_train_scaled = tvec.transform(X_train)\n",
    "X_test_scaled  = tvec.transform(X_test)\n",
    "\n",
    "mnb = MultinomialNB()\n",
    "mnb.fit(X_train_scaled, y_train)\n",
    "\n",
    "pred_train = mnb.predict(X_train_scaled)\n",
    "pred_test  = mnb.predict(X_test_scaled)\n",
    "\n",
    "cm_train = confusion_matrix(y_train,pred_train)\n",
    "cm_test  = confusion_matrix(y_test,pred_test)\n",
    "\n",
    "tn_train,fp_train,fn_train,tp_train  = cm_train.ravel()\n",
    "tn_test,fp_test,fn_test,tp_test      = cm_test.ravel()\n",
    "\n",
    "print(f'Train Accuracy Score: {accuracy_score(y_train,pred_train)}')\n",
    "print(f'Test Accuracy Score: {accuracy_score(y_test,pred_test)}')\n",
    "print(f'Train Sensitivity Score: {recall_score(y_train,pred_train)}')\n",
    "print(f'Test Sensitivity Score: {recall_score(y_test,pred_test)}')\n",
    "print(f'Train Specificity Score: {(tn_train/(tn_train+fp_train))}')\n",
    "print(f'Test Specificity Score: {(tn_test/(tn_test+fp_test))}')\n",
    "print(f'Train Precision Score: {precision_score(y_train,pred_train)}')\n",
    "print(f'Test Precision Score: {precision_score(y_test,pred_test)}')\n",
    "\n",
    "pd.DataFrame(cm_test,\n",
    "             index = ['actual conspiracy', 'actual onion'],\n",
    "             columns = ['predicted conspiracy', 'predicted onion'])"
   ]
  },
  {
   "cell_type": "code",
   "execution_count": 87,
   "metadata": {},
   "outputs": [
    {
     "data": {
      "text/html": [
       "<div>\n",
       "<style scoped>\n",
       "    .dataframe tbody tr th:only-of-type {\n",
       "        vertical-align: middle;\n",
       "    }\n",
       "\n",
       "    .dataframe tbody tr th {\n",
       "        vertical-align: top;\n",
       "    }\n",
       "\n",
       "    .dataframe thead th {\n",
       "        text-align: right;\n",
       "    }\n",
       "</style>\n",
       "<table border=\"1\" class=\"dataframe\">\n",
       "  <thead>\n",
       "    <tr style=\"text-align: right;\">\n",
       "      <th></th>\n",
       "      <th>title</th>\n",
       "      <th>pred_sub</th>\n",
       "      <th>actual_sub</th>\n",
       "    </tr>\n",
       "  </thead>\n",
       "  <tbody>\n",
       "    <tr>\n",
       "      <th>1387</th>\n",
       "      <td>Nany Pelosi has another \"senior moment\" thinks...</td>\n",
       "      <td>1</td>\n",
       "      <td>0</td>\n",
       "    </tr>\n",
       "    <tr>\n",
       "      <th>813</th>\n",
       "      <td>Incredibly Relatable: Alexandria Ocasio-Cortez...</td>\n",
       "      <td>1</td>\n",
       "      <td>1</td>\n",
       "    </tr>\n",
       "    <tr>\n",
       "      <th>1773</th>\n",
       "      <td>The Eye Of The Sahara - Mauritania's Richat St...</td>\n",
       "      <td>0</td>\n",
       "      <td>0</td>\n",
       "    </tr>\n",
       "    <tr>\n",
       "      <th>1830</th>\n",
       "      <td>Hopefully this puts an end to the conspiracies...</td>\n",
       "      <td>0</td>\n",
       "      <td>0</td>\n",
       "    </tr>\n",
       "    <tr>\n",
       "      <th>1073</th>\n",
       "      <td>Former CIA spy and torture whistleblower John ...</td>\n",
       "      <td>0</td>\n",
       "      <td>0</td>\n",
       "    </tr>\n",
       "  </tbody>\n",
       "</table>\n",
       "</div>"
      ],
      "text/plain": [
       "                                                  title  pred_sub  actual_sub\n",
       "1387  Nany Pelosi has another \"senior moment\" thinks...         1           0\n",
       "813   Incredibly Relatable: Alexandria Ocasio-Cortez...         1           1\n",
       "1773  The Eye Of The Sahara - Mauritania's Richat St...         0           0\n",
       "1830  Hopefully this puts an end to the conspiracies...         0           0\n",
       "1073  Former CIA spy and torture whistleblower John ...         0           0"
      ]
     },
     "execution_count": 87,
     "metadata": {},
     "output_type": "execute_result"
    }
   ],
   "source": [
    "df_test_pred = pd.DataFrame(data=X_test)\n",
    "df_test_pred['pred_sub'] = pred_test\n",
    "df_test_pred['actual_sub'] = y_test\n",
    "df_test_pred.head()"
   ]
  },
  {
   "cell_type": "code",
   "execution_count": 88,
   "metadata": {},
   "outputs": [],
   "source": [
    "df_wrong = df_test_pred[df_test_pred['pred_sub']!=df_test_pred['actual_sub']]"
   ]
  },
  {
   "cell_type": "code",
   "execution_count": 89,
   "metadata": {},
   "outputs": [
    {
     "data": {
      "text/plain": [
       "'The Next World Reserve Currency Will Not Be A National Currency'"
      ]
     },
     "execution_count": 89,
     "metadata": {},
     "output_type": "execute_result"
    }
   ],
   "source": [
    "df_wrong['title'].values[1]"
   ]
  },
  {
   "cell_type": "code",
   "execution_count": 90,
   "metadata": {
    "scrolled": false
   },
   "outputs": [
    {
     "name": "stdout",
     "output_type": "stream",
     "text": [
      "Conspiracy: \n",
      "    Nany Pelosi has another \"senior moment\" thinks it's Thanksgiving on Valentines Day.\n",
      "Conspiracy: \n",
      "    The Next World Reserve Currency Will Not Be A National Currency\n",
      "Conspiracy: \n",
      "    Project Blue Beam\n",
      "The Onion: \n",
      "    Report: White House Overruled Intelligence Officials For Rejecting Saudi Prince’s Top Secret Security Clearance\n",
      "The Onion: \n",
      "    Embarrassed Comcast CEO Just Tells People He Does Digital Media Stuff\n",
      "The Onion: \n",
      "    Elliott Abrams Defends War Crimes As Happening Back In The ’80s When Everyone Was Doing It\n",
      "The Onion: \n",
      "    Treasury Department Issues Emergency Recall Of All US Dollars\n",
      "Conspiracy: \n",
      "    Scientists cannot See Ghosts\n",
      "Conspiracy: \n",
      "    SS: Satan uses high profile celebrities to push evil as funny, cool and hip to attract more foot soldiers as evidenced by the recent push to stop Georgia’s Fetal heartbeat abortion bill. (Whew!)\n",
      "The Onion: \n",
      "    National Endowment For The Arts Provides $80 Million To Discourage Talentless Hacks\n",
      "Conspiracy: \n",
      "    Strange 1000 Mile Long Anomaly On The Floor of The Red Sea\n",
      "Conspiracy: \n",
      "    England, still the greatest enemy of America.\n",
      "Conspiracy: \n",
      "    Michael Jackson’s Neverland ranch has asking price slashed by 75 per cent to £23m as desperate family try to cash in\n",
      "Conspiracy: \n",
      "    Humanizing robots on alexa commercial\n",
      "Conspiracy: \n",
      "    The CIA smuggles drugs into the USA (broadcast by the CBS News show called \"West 57th\" with Jane Wallace\n",
      "Conspiracy: \n",
      "    Tucker Suggests Imposing All kinds of Taxes on the Rich .\n",
      "The Onion: \n",
      "    Girl Power! 7 Women Who Are On This List\n",
      "Conspiracy: \n",
      "    Rising Dem star: Pete Buttigieg's father was a Marxist professor who lauded the Communist Manifesto - Washington Examiner\n",
      "The Onion: \n",
      "    Cutest Guy In Whole Office Not Even Particularly Attractive\n",
      "Conspiracy: \n",
      "    Alexandria Ocasio-Cortez hit with FEC complaint for alleged 'subsidy scheme'\n",
      "Conspiracy: \n",
      "    After Gaza slaughter, Pete Buttigieg praised Israeli security responses as 'moving' and faulted Democrats for easy judgment\n",
      "Conspiracy: \n",
      "    Has Donald Trump donated to NAMBLA? (North American man boy love association). Is that why he won’t release his tax returns? The trump camp has neither confirmed nor denied the accusations. Interesting article I found.\n",
      "The Onion: \n",
      "    We Want To Know More About Our Readers!\n",
      "Conspiracy: \n",
      "    Nikola Tesla's Time Travel Experience: 'I Could See The Past, Present And Future All At The Same Time'\n",
      "Conspiracy: \n",
      "    Albert Pike The Grand Old Man Of Masonry\n",
      "The Onion: \n",
      "    Facebook: ‘Identifying Hate Speech Is Difficult Because Some Posts Actually Make Pretty Interesting Points’\n",
      "Conspiracy: \n",
      "    French authority rejects pre-emptive 'yellow vest' protest bans.\n",
      "Conspiracy: \n",
      "    You elected them to write new laws. They’re letting corporations do it instead.\n",
      "The Onion: \n",
      "    Pros And Cons Of Salary Transparency\n",
      "Conspiracy: \n",
      "    \"I asked him what was going on, and he told me he's been kidnapped and he's been traded through all these people,\" said the woman, who asked not to be identified. \"He just wanted to go home. He needed help.\"\n",
      "Conspiracy: \n",
      "    The vast majority of cute puppy/dog pictures and gifs that hit the front page are fighting dog breeds\n",
      "Conspiracy: \n",
      "    The healthcare industry is one of the main enclaves of the elite. Artificial scarcity, in healthcare licensing and schooling, easily makes enough $$ for corporate PR that suppresses and memory-holes anything critical about this.\n",
      "Conspiracy: \n",
      "    The sun is actually dead\n",
      "Conspiracy: \n",
      "    Mueller may have a conflict — and it leads directly to a Russian oligarch\n",
      "The Onion: \n",
      "    It’s Not An Easy Thing To Admit When You’re Wrong, And That’s Why I Won’t Do It\n",
      "The Onion: \n",
      "    NASA Administrator Resigns After Leak Of Offensive Anti-Moon Email\n",
      "Conspiracy: \n",
      "    Subliminal messaging in the Punisher Season 2 - no spoilers, promise.\n",
      "Conspiracy: \n",
      "    US Secret Service arrests Chinese woman for entering Trump’s vacation property\n",
      "Conspiracy: \n",
      "    Former NSA spies hacked BBC host, Al Jazeera chairman for UAE\n",
      "Conspiracy: \n",
      "    S.S Song writing about king and queen of england and how they use symbology to infect you brain any ideas on how to finish it i was messing with cards and came up with it\n",
      "The Onion: \n",
      "    Doctors Assure Recovering Patient He Has Many More Years Of Looking At Phone Ahead Of Him\n",
      "Conspiracy: \n",
      "    Money\n",
      "Conspiracy: \n",
      "    A second sun?\n",
      "The Onion: \n",
      "    How To Feel Emotions When Holding Your Newborn - Troublehacking with Drew Cleary\n",
      "Conspiracy: \n",
      "    Summaries of The Mueller Report will be publicly released as soon as tomorrow.\n",
      "Conspiracy: \n",
      "    Allison Mack and Seagram’s Heiress Have BFF Reunion at Court Today\n",
      "The Onion: \n",
      "    Most people don’t know this!\n",
      "Conspiracy: \n",
      "    Anomalous Soil Accumulation\n",
      "Conspiracy: \n",
      "    Chinese woman with 2 passports, malware arrested at Trump's Mar-a-Lago Club\n",
      "Conspiracy: \n",
      "    “He Died As A Direct Result of the HPV Vaccine” – Mother Of Dead Teenager Speaks Out\n",
      "Conspiracy: \n",
      "    Is Graham Hancock a Freemason shill? Ad Hominem Attacks Build in month before book release. Josh Reeves bombshell accusation\n",
      "Conspiracy: \n",
      "    The Poverty of Capitalism - Economic Meltdown and the Struggle for What Comes Next (book -pdf)\n",
      "The Onion: \n",
      "    Group Of Friends Engage In Passionate, Incoherent Discussion About Current Events\n",
      "The Onion: \n",
      "    Reconstruction Finally Completed On Field Destroyed By United Flight 93\n",
      "The Onion: \n",
      "    Bouncer Who’s Not That Big Must Be Fucking Crazy\n",
      "Conspiracy: \n",
      "    Louisiana's incarceration rate is nearly five times Iran's, 13 times China's and 20 times Germany's\n",
      "The Onion: \n",
      "    17-Year Cicadas Horrified To Learn About 9/11\n",
      "The Onion: \n",
      "    Sighing Banksy Methodically Kills Another Few Kids Who Stumbled Upon Him Doing Graffiti\n",
      "The Onion: \n",
      "    Congress Agrees To $1.3 Billion For Protective Border Fencers\n",
      "The Onion: \n",
      "    Matter Of Life And Death: First Responder Describes His Most Intense Rescues\n",
      "The Onion: \n",
      "    So-Called ‘Atheist’ Doesn’t Even Barge Into Churches Screaming ‘You’re All Brainwashed Fools’\n",
      "The Onion: \n",
      "    The Power Of People: When These Parents Came Together And Demanded That There Never Be A School Where All The Teachers Are Pedophiles, The School District Released A Statement Saying They Agreed\n",
      "The Onion: \n",
      "    Encouraging Report From Radical Extremist Think Tank Finds America No Safer Since 9/11\n",
      "Conspiracy: \n",
      "    Everyone inside this ice shelf fully believes in what Freemasons create, human unappointed leaders due to the free-ness of it, and barely know the ways of G_d, or the almighty spirit.\n",
      "Conspiracy: \n",
      "    Establishment democrats blame Bernie for bringing up bidens creepy actions. Sanders campaign has denied the accusations. Just more Bernie hate from the DNC.\n",
      "The Onion: \n",
      "    Furloughed Federal Employee Starts Online Search For New Government\n",
      "The Onion: \n",
      "    God Purges Millions Of Souls From Heaven Now That Sexual Assault Being Taken More Seriously\n",
      "Conspiracy: \n",
      "    Supreme Court will take up case of citizenship question on 2020 Census -OANN. Will SC rule by June 2019 when census forms go to print?\n",
      "The Onion: \n",
      "    The Key To Getting Pregnant Is Letting Everyone Know You’re Trying\n",
      "The Onion: \n",
      "    Aging Mount St. Helens Starting To Think Erupting Days Are Behind It\n",
      "The Onion: \n",
      "    He’s Running: Joe Biden Just Made A Pinterest Board Called ‘President Style Ideas’\n",
      "The Onion: \n",
      "    Creepy Older Brand Clearly Targeting Female 18-To-24-Year-Olds\n",
      "Conspiracy: \n",
      "    Kamala Harris Whistleblower, SF Public Defender Jeff Adachi, found dead at 59 of suspected heart attack\n",
      "Conspiracy: \n",
      "    Emissions cheating devices by automobile manufacturers and shipping companies still run rampant\n",
      "Conspiracy: \n",
      "    Scientists have Observed Epigenetic Memories being Passed Down for 14 Generations\n",
      "The Onion: \n",
      "    Study: No Two People Have Listened To Same Band Since 2003\n",
      "Conspiracy: \n",
      "    I love irony.\n",
      "The Onion: \n",
      "    Why do you love that smell?\n",
      "The Onion: \n",
      "    ‘The Last Of Us 2’ To Be Released In 2019\n",
      "Conspiracy: \n",
      "    Massive pharmaceutical recall continues with little press coverage\n",
      "Conspiracy: \n",
      "    Opinion Survey: Has Tim Pool Sold Out?\n",
      "Conspiracy: \n",
      "    The Army can't recruit enough soldiers, and it may start talking to kids as young as 12 to find them\n",
      "The Onion: \n",
      "    Scientists Genetically Engineer Lab Rat Predisposed To Think Anything Wrong With It Might Be Cancer\n"
     ]
    }
   ],
   "source": [
    "for i,title in enumerate(df_wrong['title']):\n",
    "    if df_wrong['actual_sub'].values[i] == 1:\n",
    "        print('The Onion: ')\n",
    "    else:\n",
    "        print('Conspiracy: ')\n",
    "    print('   ',title)"
   ]
  },
  {
   "cell_type": "code",
   "execution_count": null,
   "metadata": {},
   "outputs": [],
   "source": []
  }
 ],
 "metadata": {
  "kernelspec": {
   "display_name": "Python 3",
   "language": "python",
   "name": "python3"
  },
  "language_info": {
   "codemirror_mode": {
    "name": "ipython",
    "version": 3
   },
   "file_extension": ".py",
   "mimetype": "text/x-python",
   "name": "python",
   "nbconvert_exporter": "python",
   "pygments_lexer": "ipython3",
   "version": "3.6.5"
  },
  "toc": {
   "base_numbering": 1,
   "nav_menu": {},
   "number_sections": false,
   "sideBar": true,
   "skip_h1_title": false,
   "title_cell": "Table of Contents",
   "title_sidebar": "Contents",
   "toc_cell": true,
   "toc_position": {
    "height": "calc(100% - 180px)",
    "left": "10px",
    "top": "150px",
    "width": "279px"
   },
   "toc_section_display": true,
   "toc_window_display": true
  }
 },
 "nbformat": 4,
 "nbformat_minor": 2
}
